{
 "cells": [
  {
   "cell_type": "markdown",
   "id": "f38b8e0e",
   "metadata": {},
   "source": [
    "# Cafe Sales Data Cleaning"
   ]
  },
  {
   "cell_type": "markdown",
   "id": "b7d44e82",
   "metadata": {},
   "source": [
    "## Loading Data"
   ]
  },
  {
   "cell_type": "code",
   "execution_count": 7,
   "id": "ff18a2ee",
   "metadata": {},
   "outputs": [],
   "source": [
    "# Loading necessary libraries\n",
    "import numpy as np\n",
    "import pandas as pd\n",
    "import matplotlib.pyplot as plt\n",
    "import seaborn as sns\n",
    "import pingouin as pg\n",
    "from statsmodels.tsa.seasonal import seasonal_decompose\n",
    "from statsmodels.graphics.tsaplots import plot_acf, plot_pacf\n",
    "from statsmodels.tsa.stattools import adfuller\n",
    "from scipy import stats"
   ]
  },
  {
   "cell_type": "code",
   "execution_count": 8,
   "id": "0dc359d5",
   "metadata": {},
   "outputs": [],
   "source": [
    "# Reading in the data\n",
    "sales = pd.read_csv(\n",
    "    r'C:\\Users\\matth\\OneDrive\\Projects\\Python\\Cafe sales\\For Github\\dirty_cafe_sales.csv')"
   ]
  },
  {
   "cell_type": "code",
   "execution_count": 9,
   "id": "3f4a1966",
   "metadata": {},
   "outputs": [
    {
     "data": {
      "text/html": [
       "<div>\n",
       "<style scoped>\n",
       "    .dataframe tbody tr th:only-of-type {\n",
       "        vertical-align: middle;\n",
       "    }\n",
       "\n",
       "    .dataframe tbody tr th {\n",
       "        vertical-align: top;\n",
       "    }\n",
       "\n",
       "    .dataframe thead th {\n",
       "        text-align: right;\n",
       "    }\n",
       "</style>\n",
       "<table border=\"1\" class=\"dataframe\">\n",
       "  <thead>\n",
       "    <tr style=\"text-align: right;\">\n",
       "      <th></th>\n",
       "      <th>Transaction ID</th>\n",
       "      <th>Item</th>\n",
       "      <th>Quantity</th>\n",
       "      <th>Price Per Unit</th>\n",
       "      <th>Total Spent</th>\n",
       "      <th>Payment Method</th>\n",
       "      <th>Location</th>\n",
       "      <th>Transaction Date</th>\n",
       "    </tr>\n",
       "  </thead>\n",
       "  <tbody>\n",
       "    <tr>\n",
       "      <th>0</th>\n",
       "      <td>TXN_1961373</td>\n",
       "      <td>Coffee</td>\n",
       "      <td>2</td>\n",
       "      <td>2.0</td>\n",
       "      <td>4.0</td>\n",
       "      <td>Credit Card</td>\n",
       "      <td>Takeaway</td>\n",
       "      <td>2023-09-08</td>\n",
       "    </tr>\n",
       "    <tr>\n",
       "      <th>1</th>\n",
       "      <td>TXN_4977031</td>\n",
       "      <td>Cake</td>\n",
       "      <td>4</td>\n",
       "      <td>3.0</td>\n",
       "      <td>12.0</td>\n",
       "      <td>Cash</td>\n",
       "      <td>In-store</td>\n",
       "      <td>2023-05-16</td>\n",
       "    </tr>\n",
       "    <tr>\n",
       "      <th>2</th>\n",
       "      <td>TXN_4271903</td>\n",
       "      <td>Cookie</td>\n",
       "      <td>4</td>\n",
       "      <td>1.0</td>\n",
       "      <td>ERROR</td>\n",
       "      <td>Credit Card</td>\n",
       "      <td>In-store</td>\n",
       "      <td>2023-07-19</td>\n",
       "    </tr>\n",
       "    <tr>\n",
       "      <th>3</th>\n",
       "      <td>TXN_7034554</td>\n",
       "      <td>Salad</td>\n",
       "      <td>2</td>\n",
       "      <td>5.0</td>\n",
       "      <td>10.0</td>\n",
       "      <td>UNKNOWN</td>\n",
       "      <td>UNKNOWN</td>\n",
       "      <td>2023-04-27</td>\n",
       "    </tr>\n",
       "    <tr>\n",
       "      <th>4</th>\n",
       "      <td>TXN_3160411</td>\n",
       "      <td>Coffee</td>\n",
       "      <td>2</td>\n",
       "      <td>2.0</td>\n",
       "      <td>4.0</td>\n",
       "      <td>Digital Wallet</td>\n",
       "      <td>In-store</td>\n",
       "      <td>2023-06-11</td>\n",
       "    </tr>\n",
       "    <tr>\n",
       "      <th>5</th>\n",
       "      <td>TXN_2602893</td>\n",
       "      <td>Smoothie</td>\n",
       "      <td>5</td>\n",
       "      <td>4.0</td>\n",
       "      <td>20.0</td>\n",
       "      <td>Credit Card</td>\n",
       "      <td>NaN</td>\n",
       "      <td>2023-03-31</td>\n",
       "    </tr>\n",
       "    <tr>\n",
       "      <th>6</th>\n",
       "      <td>TXN_4433211</td>\n",
       "      <td>UNKNOWN</td>\n",
       "      <td>3</td>\n",
       "      <td>3.0</td>\n",
       "      <td>9.0</td>\n",
       "      <td>ERROR</td>\n",
       "      <td>Takeaway</td>\n",
       "      <td>2023-10-06</td>\n",
       "    </tr>\n",
       "    <tr>\n",
       "      <th>7</th>\n",
       "      <td>TXN_6699534</td>\n",
       "      <td>Sandwich</td>\n",
       "      <td>4</td>\n",
       "      <td>4.0</td>\n",
       "      <td>16.0</td>\n",
       "      <td>Cash</td>\n",
       "      <td>UNKNOWN</td>\n",
       "      <td>2023-10-28</td>\n",
       "    </tr>\n",
       "    <tr>\n",
       "      <th>8</th>\n",
       "      <td>TXN_4717867</td>\n",
       "      <td>NaN</td>\n",
       "      <td>5</td>\n",
       "      <td>3.0</td>\n",
       "      <td>15.0</td>\n",
       "      <td>NaN</td>\n",
       "      <td>Takeaway</td>\n",
       "      <td>2023-07-28</td>\n",
       "    </tr>\n",
       "    <tr>\n",
       "      <th>9</th>\n",
       "      <td>TXN_2064365</td>\n",
       "      <td>Sandwich</td>\n",
       "      <td>5</td>\n",
       "      <td>4.0</td>\n",
       "      <td>20.0</td>\n",
       "      <td>NaN</td>\n",
       "      <td>In-store</td>\n",
       "      <td>2023-12-31</td>\n",
       "    </tr>\n",
       "  </tbody>\n",
       "</table>\n",
       "</div>"
      ],
      "text/plain": [
       "  Transaction ID      Item Quantity Price Per Unit Total Spent  \\\n",
       "0    TXN_1961373    Coffee        2            2.0         4.0   \n",
       "1    TXN_4977031      Cake        4            3.0        12.0   \n",
       "2    TXN_4271903    Cookie        4            1.0       ERROR   \n",
       "3    TXN_7034554     Salad        2            5.0        10.0   \n",
       "4    TXN_3160411    Coffee        2            2.0         4.0   \n",
       "5    TXN_2602893  Smoothie        5            4.0        20.0   \n",
       "6    TXN_4433211   UNKNOWN        3            3.0         9.0   \n",
       "7    TXN_6699534  Sandwich        4            4.0        16.0   \n",
       "8    TXN_4717867       NaN        5            3.0        15.0   \n",
       "9    TXN_2064365  Sandwich        5            4.0        20.0   \n",
       "\n",
       "   Payment Method  Location Transaction Date  \n",
       "0     Credit Card  Takeaway       2023-09-08  \n",
       "1            Cash  In-store       2023-05-16  \n",
       "2     Credit Card  In-store       2023-07-19  \n",
       "3         UNKNOWN   UNKNOWN       2023-04-27  \n",
       "4  Digital Wallet  In-store       2023-06-11  \n",
       "5     Credit Card       NaN       2023-03-31  \n",
       "6           ERROR  Takeaway       2023-10-06  \n",
       "7            Cash   UNKNOWN       2023-10-28  \n",
       "8             NaN  Takeaway       2023-07-28  \n",
       "9             NaN  In-store       2023-12-31  "
      ]
     },
     "execution_count": 9,
     "metadata": {},
     "output_type": "execute_result"
    }
   ],
   "source": [
    "# Viewing first 10 rows\n",
    "sales.head(n=10)"
   ]
  },
  {
   "cell_type": "markdown",
   "id": "f2f35939",
   "metadata": {},
   "source": [
    "## Overview of Data"
   ]
  },
  {
   "cell_type": "code",
   "execution_count": 10,
   "id": "7e2a7011",
   "metadata": {},
   "outputs": [
    {
     "name": "stdout",
     "output_type": "stream",
     "text": [
      "<class 'pandas.core.frame.DataFrame'>\n",
      "RangeIndex: 10000 entries, 0 to 9999\n",
      "Data columns (total 8 columns):\n",
      " #   Column            Non-Null Count  Dtype \n",
      "---  ------            --------------  ----- \n",
      " 0   Transaction ID    10000 non-null  object\n",
      " 1   Item              9667 non-null   object\n",
      " 2   Quantity          9862 non-null   object\n",
      " 3   Price Per Unit    9821 non-null   object\n",
      " 4   Total Spent       9827 non-null   object\n",
      " 5   Payment Method    7421 non-null   object\n",
      " 6   Location          6735 non-null   object\n",
      " 7   Transaction Date  9841 non-null   object\n",
      "dtypes: object(8)\n",
      "memory usage: 625.1+ KB\n"
     ]
    }
   ],
   "source": [
    "# Some general information about each column\n",
    "sales.info()"
   ]
  },
  {
   "cell_type": "code",
   "execution_count": 11,
   "id": "8b425817",
   "metadata": {},
   "outputs": [
    {
     "data": {
      "text/plain": [
       "Transaction ID         0\n",
       "Item                 333\n",
       "Quantity             138\n",
       "Price Per Unit       179\n",
       "Total Spent          173\n",
       "Payment Method      2579\n",
       "Location            3265\n",
       "Transaction Date     159\n",
       "dtype: int64"
      ]
     },
     "execution_count": 11,
     "metadata": {},
     "output_type": "execute_result"
    }
   ],
   "source": [
    "# Number of null values in each column\n",
    "sales.isna().sum()"
   ]
  },
  {
   "cell_type": "code",
   "execution_count": 12,
   "id": "cb2a2b4f",
   "metadata": {},
   "outputs": [
    {
     "data": {
      "text/plain": [
       "10000"
      ]
     },
     "execution_count": 12,
     "metadata": {},
     "output_type": "execute_result"
    }
   ],
   "source": [
    "# Checking for any duplicated entries\n",
    "len(sales[\"Transaction ID\"].unique())"
   ]
  },
  {
   "cell_type": "markdown",
   "id": "25115f04",
   "metadata": {},
   "source": [
    "There doesn't seem to be any duplicates."
   ]
  },
  {
   "cell_type": "markdown",
   "id": "d1231ed4",
   "metadata": {},
   "source": [
    "It seems as though there are multiple ways of displaying imperfect data. For example, there are \"NaN\", \"UNKNOWN\", and \"ERROR\" entries. Let us look at a few columns to see if there are any more ways of representing this data. "
   ]
  },
  {
   "cell_type": "code",
   "execution_count": 13,
   "id": "eec9afc1",
   "metadata": {},
   "outputs": [
    {
     "name": "stdout",
     "output_type": "stream",
     "text": [
      "Quantity: ['2' '4' '5' '3' '1' 'ERROR' 'UNKNOWN' nan]\n",
      "Payment Method: ['Credit Card' 'Cash' 'UNKNOWN' 'Digital Wallet' 'ERROR' nan]\n",
      "Location: ['Takeaway' 'In-store' 'UNKNOWN' nan 'ERROR']\n"
     ]
    }
   ],
   "source": [
    "# Apply unique function to some columns\n",
    "unique_values = {col: sales[col].unique()\n",
    "                 for col in [\"Quantity\", \"Payment Method\", \"Location\"]}\n",
    "for key, value in unique_values.items():\n",
    "    print(f\"{key}: {value}\")"
   ]
  },
  {
   "cell_type": "markdown",
   "id": "48c1eba3",
   "metadata": {},
   "source": [
    "It doesn't seem as though there are any other ways of representing missing data."
   ]
  },
  {
   "cell_type": "markdown",
   "id": "0a20f637",
   "metadata": {},
   "source": [
    "## Handling Missing Values"
   ]
  },
  {
   "cell_type": "markdown",
   "id": "c6d6588a",
   "metadata": {},
   "source": [
    "We now want to replace \"ERROR\" and \"UNKNOWN\" with \"NaN\" for all the data, to make manipulations easier. "
   ]
  },
  {
   "cell_type": "code",
   "execution_count": 14,
   "id": "8ba3899d",
   "metadata": {},
   "outputs": [],
   "source": [
    "# Standardizing the missing and incomplete data\n",
    "sales = sales.replace(['ERROR', 'UNKNOWN'], np.nan)"
   ]
  },
  {
   "cell_type": "markdown",
   "id": "ae050d5c",
   "metadata": {},
   "source": [
    "We want to do multiple forms of Analysis on this data. We will do some general cleaning, then branch off as needed."
   ]
  },
  {
   "cell_type": "markdown",
   "id": "383eebbd",
   "metadata": {},
   "source": [
    "### Quantity, Price Per Unit and Total Spent"
   ]
  },
  {
   "cell_type": "markdown",
   "id": "aaa88d82",
   "metadata": {},
   "source": [
    "We will now convert the data types of \"Quantity\", \"Price Per Unit\", and \"Total Spent\" columns to floats."
   ]
  },
  {
   "cell_type": "code",
   "execution_count": 15,
   "id": "43c4c801",
   "metadata": {},
   "outputs": [],
   "source": [
    "# Converting \"Quantity\" column to float\n",
    "sales['Quantity'] = sales['Quantity'].astype(float)"
   ]
  },
  {
   "cell_type": "code",
   "execution_count": 16,
   "id": "7885914a",
   "metadata": {},
   "outputs": [],
   "source": [
    "# Converting \"Price Per Unit\" column to float\n",
    "sales['Price Per Unit'] = sales['Price Per Unit'].astype(float)"
   ]
  },
  {
   "cell_type": "code",
   "execution_count": 17,
   "id": "81e3574a",
   "metadata": {},
   "outputs": [],
   "source": [
    "# Converting \"Total Spent\" column to float\n",
    "sales['Total Spent'] = sales['Total Spent'].astype(float)"
   ]
  },
  {
   "cell_type": "markdown",
   "id": "b61c80f4",
   "metadata": {},
   "source": [
    "We will now fill in the nan values as best we can."
   ]
  },
  {
   "cell_type": "code",
   "execution_count": 18,
   "id": "9954c86c",
   "metadata": {},
   "outputs": [],
   "source": [
    "# Equation to fill in \"Total Spent\"\n",
    "fill_total_spent = sales['Quantity'] * sales['Price Per Unit']\n",
    "# Filling in \"Total Spent\"\n",
    "sales['Total Spent'] = sales['Total Spent'].fillna(fill_total_spent)"
   ]
  },
  {
   "cell_type": "code",
   "execution_count": 19,
   "id": "b3f2e07c",
   "metadata": {},
   "outputs": [],
   "source": [
    "# Equation to fill in \"Price Per Unit\"\n",
    "fill_ppu = sales['Total Spent'] / sales['Quantity']\n",
    "# Filling in \"Price Per Unit\"\n",
    "sales['Price Per Unit'] = sales['Price Per Unit'].fillna(fill_ppu)"
   ]
  },
  {
   "cell_type": "code",
   "execution_count": 20,
   "id": "8ddfe068",
   "metadata": {},
   "outputs": [],
   "source": [
    "# Equation to fill in \"Quantity\"\n",
    "fill_quantity = sales['Total Spent'] / sales['Price Per Unit']\n",
    "# Filling in \"Quantity\"\n",
    "sales['Quantity'] = sales['Quantity'].fillna(fill_quantity)"
   ]
  },
  {
   "cell_type": "markdown",
   "id": "c985d4a7",
   "metadata": {},
   "source": [
    "We will now drop the nan rows for the three columns because we cannot glean any more information from them."
   ]
  },
  {
   "cell_type": "code",
   "execution_count": 21,
   "id": "4a8508e0",
   "metadata": {},
   "outputs": [
    {
     "data": {
      "text/plain": [
       "58"
      ]
     },
     "execution_count": 21,
     "metadata": {},
     "output_type": "execute_result"
    }
   ],
   "source": [
    "# Creating list of indices to drop\n",
    "to_drop = sales[sales['Quantity'].isna() | sales['Price Per Unit'].isna()\n",
    "                | sales['Total Spent'].isna()].index\n",
    "to_drop_list = list(to_drop)\n",
    "len(to_drop_list)"
   ]
  },
  {
   "cell_type": "code",
   "execution_count": 22,
   "id": "6d07591b",
   "metadata": {},
   "outputs": [],
   "source": [
    "# Dropping remaining NaN values from \"Total Spent\", \"Price Per Unit\", and \"Quantity\" columns\n",
    "sales.drop(to_drop_list, inplace=True)"
   ]
  },
  {
   "cell_type": "markdown",
   "id": "dc7393fe",
   "metadata": {},
   "source": [
    "Quantity, Price Per Unit, and Total Spent columns now have zero null values."
   ]
  },
  {
   "cell_type": "markdown",
   "id": "ddfe585f",
   "metadata": {},
   "source": [
    "We now proceed to clean the item column."
   ]
  },
  {
   "cell_type": "markdown",
   "id": "054e4a60",
   "metadata": {},
   "source": [
    "### Item"
   ]
  },
  {
   "cell_type": "markdown",
   "id": "9579bbfe",
   "metadata": {},
   "source": [
    "#### Looking for Opportunities to Impute"
   ]
  },
  {
   "cell_type": "markdown",
   "id": "67063cfd",
   "metadata": {},
   "source": [
    "We will be looking for ways to impute item values as much as possible. For example, if a specific price per unit refers to only one item, then we know that any \"NaN\" item values with this price per unit must be this unique item. Therefore, we can populate the missing values. Let us see if this is the case for any items."
   ]
  },
  {
   "cell_type": "code",
   "execution_count": 23,
   "id": "2e4475de",
   "metadata": {},
   "outputs": [
    {
     "data": {
      "text/plain": [
       "1205"
      ]
     },
     "execution_count": 23,
     "metadata": {},
     "output_type": "execute_result"
    }
   ],
   "source": [
    "# Getting subset of sales data with Price Per Unit of 1\n",
    "ppu1 = sales[np.isclose(sales['Price Per Unit'], 1.)]\n",
    "len(ppu1)"
   ]
  },
  {
   "cell_type": "code",
   "execution_count": 24,
   "id": "8eaebc2c",
   "metadata": {},
   "outputs": [
    {
     "data": {
      "text/plain": [
       "array(['Cookie', nan], dtype=object)"
      ]
     },
     "execution_count": 24,
     "metadata": {},
     "output_type": "execute_result"
    }
   ],
   "source": [
    "# Getting items corresponding to Price Per Unit of 1\n",
    "ppu1[\"Item\"].unique()"
   ]
  },
  {
   "cell_type": "markdown",
   "id": "0bd8b664",
   "metadata": {},
   "source": [
    "Since there is a unique item, we can impute."
   ]
  },
  {
   "cell_type": "code",
   "execution_count": 25,
   "id": "4feea2fd",
   "metadata": {},
   "outputs": [
    {
     "data": {
      "text/plain": [
       "1199"
      ]
     },
     "execution_count": 25,
     "metadata": {},
     "output_type": "execute_result"
    }
   ],
   "source": [
    "# Getting subset of sales data with Price Per Unit of 1.5\n",
    "ppu15 = sales[np.isclose(sales['Price Per Unit'], 1.5)]\n",
    "len(ppu15)"
   ]
  },
  {
   "cell_type": "code",
   "execution_count": 26,
   "id": "e9d6decb",
   "metadata": {},
   "outputs": [
    {
     "data": {
      "text/plain": [
       "array([nan, 'Tea'], dtype=object)"
      ]
     },
     "execution_count": 26,
     "metadata": {},
     "output_type": "execute_result"
    }
   ],
   "source": [
    "# Getting items corresponding to Price Per Unit of 1.5\n",
    "ppu15[\"Item\"].unique()"
   ]
  },
  {
   "cell_type": "markdown",
   "id": "e770b7c1",
   "metadata": {},
   "source": [
    "Since there is a unique item, we can impute."
   ]
  },
  {
   "cell_type": "code",
   "execution_count": 27,
   "id": "e8cbb1d3",
   "metadata": {},
   "outputs": [
    {
     "data": {
      "text/plain": [
       "1284"
      ]
     },
     "execution_count": 27,
     "metadata": {},
     "output_type": "execute_result"
    }
   ],
   "source": [
    "# Getting subset of sales data with Price Per Unit of 2\n",
    "ppu2 = sales[np.isclose(sales['Price Per Unit'], 2.)]\n",
    "len(ppu2)"
   ]
  },
  {
   "cell_type": "code",
   "execution_count": 28,
   "id": "4e710a7a",
   "metadata": {},
   "outputs": [
    {
     "data": {
      "text/plain": [
       "array(['Coffee', nan], dtype=object)"
      ]
     },
     "execution_count": 28,
     "metadata": {},
     "output_type": "execute_result"
    }
   ],
   "source": [
    "# Getting items corresponding to Price Per Unit of 2\n",
    "ppu2[\"Item\"].unique()"
   ]
  },
  {
   "cell_type": "markdown",
   "id": "35c44688",
   "metadata": {},
   "source": [
    "Since there is a unique item, we can impute."
   ]
  },
  {
   "cell_type": "code",
   "execution_count": 29,
   "id": "48e22b99",
   "metadata": {},
   "outputs": [
    {
     "data": {
      "text/plain": [
       "2548"
      ]
     },
     "execution_count": 29,
     "metadata": {},
     "output_type": "execute_result"
    }
   ],
   "source": [
    "# Getting subset of sales data with Price Per Unit of 3\n",
    "ppu3 = sales[np.isclose(sales['Price Per Unit'], 3.)]\n",
    "len(ppu3)"
   ]
  },
  {
   "cell_type": "code",
   "execution_count": 30,
   "id": "44b6bb44",
   "metadata": {},
   "outputs": [
    {
     "data": {
      "text/plain": [
       "array(['Cake', nan, 'Juice'], dtype=object)"
      ]
     },
     "execution_count": 30,
     "metadata": {},
     "output_type": "execute_result"
    }
   ],
   "source": [
    "# Getting items corresponding to Price Per Unit of 3\n",
    "ppu3[\"Item\"].unique()"
   ]
  },
  {
   "cell_type": "markdown",
   "id": "b2a23cc4",
   "metadata": {},
   "source": [
    "We see that both cake and juice share a 3.0 price per unit. We can't impute any value here, so we will drop the missing values here."
   ]
  },
  {
   "cell_type": "code",
   "execution_count": 31,
   "id": "038c9d04",
   "metadata": {},
   "outputs": [
    {
     "data": {
      "text/plain": [
       "2438"
      ]
     },
     "execution_count": 31,
     "metadata": {},
     "output_type": "execute_result"
    }
   ],
   "source": [
    "# Getting subset of sales data with Price Per Unit of 4\n",
    "ppu4 = sales[np.isclose(sales['Price Per Unit'], 4.)]\n",
    "len(ppu4)"
   ]
  },
  {
   "cell_type": "code",
   "execution_count": 32,
   "id": "d5c35e31",
   "metadata": {},
   "outputs": [
    {
     "data": {
      "text/plain": [
       "array(['Smoothie', 'Sandwich', nan], dtype=object)"
      ]
     },
     "execution_count": 32,
     "metadata": {},
     "output_type": "execute_result"
    }
   ],
   "source": [
    "# Getting items corresponding to Price Per Unit of 4\n",
    "ppu4[\"Item\"].unique()"
   ]
  },
  {
   "cell_type": "markdown",
   "id": "e6d93446",
   "metadata": {},
   "source": [
    "We see that both \"...\" and \"...\" share a 4.0 price per unit. We can't impute any value here, so we will drop the missing values here."
   ]
  },
  {
   "cell_type": "code",
   "execution_count": 33,
   "id": "d63b5542",
   "metadata": {},
   "outputs": [
    {
     "data": {
      "text/plain": [
       "1268"
      ]
     },
     "execution_count": 33,
     "metadata": {},
     "output_type": "execute_result"
    }
   ],
   "source": [
    "# Getting subset of sales data with Price Per Unit of 5\n",
    "ppu5 = sales[np.isclose(sales['Price Per Unit'], 5.)]\n",
    "len(ppu5)"
   ]
  },
  {
   "cell_type": "code",
   "execution_count": 34,
   "id": "c26dfaaa",
   "metadata": {},
   "outputs": [
    {
     "data": {
      "text/plain": [
       "array(['Salad', nan], dtype=object)"
      ]
     },
     "execution_count": 34,
     "metadata": {},
     "output_type": "execute_result"
    }
   ],
   "source": [
    "# Getting items corresponding to Price Per Unit of 5\n",
    "ppu5[\"Item\"].unique()"
   ]
  },
  {
   "cell_type": "markdown",
   "id": "8306af0d",
   "metadata": {},
   "source": [
    "Since there is a unique item, we can impute."
   ]
  },
  {
   "cell_type": "markdown",
   "id": "fecd5d34",
   "metadata": {},
   "source": [
    "#### Imputing"
   ]
  },
  {
   "cell_type": "code",
   "execution_count": 35,
   "id": "11c5f9a9",
   "metadata": {},
   "outputs": [],
   "source": [
    "# Imputing for Price Per Unit of 1.0\n",
    "sales.loc[np.isclose(sales['Price Per Unit'], 1.), \"Item\"] = \"Cookie\""
   ]
  },
  {
   "cell_type": "code",
   "execution_count": 36,
   "id": "b984e656",
   "metadata": {},
   "outputs": [],
   "source": [
    "# Imputing for Price Per Unit of 1.5\n",
    "sales.loc[np.isclose(sales['Price Per Unit'], 1.5), \"Item\"] = \"Tea\""
   ]
  },
  {
   "cell_type": "code",
   "execution_count": 37,
   "id": "b8d52b98",
   "metadata": {},
   "outputs": [],
   "source": [
    "# Imputing for Price Per Unit of 2.0\n",
    "sales.loc[np.isclose(sales['Price Per Unit'], 2.), \"Item\"] = \"Coffee\""
   ]
  },
  {
   "cell_type": "code",
   "execution_count": 38,
   "id": "7a41d1ce",
   "metadata": {},
   "outputs": [],
   "source": [
    "# Imputing for Price Per Unit of 5.0\n",
    "sales.loc[np.isclose(sales['Price Per Unit'], 5.), \"Item\"] = \"Salad\""
   ]
  },
  {
   "cell_type": "markdown",
   "id": "05e97183",
   "metadata": {},
   "source": [
    "#### Dropping values which cannot be imputed "
   ]
  },
  {
   "cell_type": "code",
   "execution_count": 39,
   "id": "042f93c4",
   "metadata": {},
   "outputs": [
    {
     "data": {
      "text/plain": [
       "247"
      ]
     },
     "execution_count": 39,
     "metadata": {},
     "output_type": "execute_result"
    }
   ],
   "source": [
    "# Creating list of NaN values to drop corresponding to Price Per Unit of 3.0\n",
    "ppu3drop = sales.loc[np.isclose(\n",
    "    sales['Price Per Unit'], 3.) & sales[\"Item\"].isna()].index\n",
    "\n",
    "ppu3droplist = list(ppu3drop)\n",
    "\n",
    "len(ppu3droplist)"
   ]
  },
  {
   "cell_type": "code",
   "execution_count": 40,
   "id": "a1a20da7",
   "metadata": {},
   "outputs": [],
   "source": [
    "# Dropping for Price Per Unit of 3.0\n",
    "sales.drop(ppu3droplist, inplace=True)"
   ]
  },
  {
   "cell_type": "code",
   "execution_count": 41,
   "id": "1b1cdbd5",
   "metadata": {},
   "outputs": [
    {
     "data": {
      "text/plain": [
       "227"
      ]
     },
     "execution_count": 41,
     "metadata": {},
     "output_type": "execute_result"
    }
   ],
   "source": [
    "# Creating list of NaN values to drop corresponding to Price Per Unit of 4.0\n",
    "ppu4drop = sales.loc[np.isclose(\n",
    "    sales['Price Per Unit'], 4.) & sales[\"Item\"].isna()].index\n",
    "\n",
    "ppu4droplist = list(ppu4drop)\n",
    "\n",
    "len(ppu4droplist)"
   ]
  },
  {
   "cell_type": "code",
   "execution_count": 42,
   "id": "3dbcb72f",
   "metadata": {},
   "outputs": [],
   "source": [
    "# Dropping for Price Per Unit of 4.0\n",
    "sales.drop(ppu4droplist, inplace=True)"
   ]
  },
  {
   "cell_type": "markdown",
   "id": "4e99a8e0",
   "metadata": {},
   "source": [
    "## Other Adjustments to Sales Data"
   ]
  },
  {
   "cell_type": "markdown",
   "id": "7a370ea5",
   "metadata": {},
   "source": [
    "The last thing we want to do with this sales dataset is convert the quantity column to an integer data type."
   ]
  },
  {
   "cell_type": "code",
   "execution_count": 43,
   "id": "4fac231d",
   "metadata": {},
   "outputs": [],
   "source": [
    "# Converting \"Quantity\" column to integer type\n",
    "sales[\"Quantity\"] = sales[\"Quantity\"].astype(int)"
   ]
  },
  {
   "cell_type": "code",
   "execution_count": 44,
   "id": "2272f91e",
   "metadata": {},
   "outputs": [
    {
     "name": "stdout",
     "output_type": "stream",
     "text": [
      "<class 'pandas.core.frame.DataFrame'>\n",
      "Index: 9468 entries, 0 to 9999\n",
      "Data columns (total 8 columns):\n",
      " #   Column            Non-Null Count  Dtype  \n",
      "---  ------            --------------  -----  \n",
      " 0   Transaction ID    9468 non-null   object \n",
      " 1   Item              9468 non-null   object \n",
      " 2   Quantity          9468 non-null   int32  \n",
      " 3   Price Per Unit    9468 non-null   float64\n",
      " 4   Total Spent       9468 non-null   float64\n",
      " 5   Payment Method    6454 non-null   object \n",
      " 6   Location          5717 non-null   object \n",
      " 7   Transaction Date  9035 non-null   object \n",
      "dtypes: float64(2), int32(1), object(5)\n",
      "memory usage: 628.7+ KB\n"
     ]
    }
   ],
   "source": [
    "# Updated general information about columns\n",
    "sales.info()"
   ]
  },
  {
   "cell_type": "code",
   "execution_count": 45,
   "id": "d15af32f",
   "metadata": {},
   "outputs": [
    {
     "data": {
      "text/plain": [
       "Transaction ID         0\n",
       "Item                   0\n",
       "Quantity               0\n",
       "Price Per Unit         0\n",
       "Total Spent            0\n",
       "Payment Method      3014\n",
       "Location            3751\n",
       "Transaction Date     433\n",
       "dtype: int64"
      ]
     },
     "execution_count": 45,
     "metadata": {},
     "output_type": "execute_result"
    }
   ],
   "source": [
    "# Updated null values\n",
    "sales.isna().sum()"
   ]
  },
  {
   "cell_type": "code",
   "execution_count": 46,
   "id": "049a74ed",
   "metadata": {},
   "outputs": [
    {
     "data": {
      "text/html": [
       "<div>\n",
       "<style scoped>\n",
       "    .dataframe tbody tr th:only-of-type {\n",
       "        vertical-align: middle;\n",
       "    }\n",
       "\n",
       "    .dataframe tbody tr th {\n",
       "        vertical-align: top;\n",
       "    }\n",
       "\n",
       "    .dataframe thead th {\n",
       "        text-align: right;\n",
       "    }\n",
       "</style>\n",
       "<table border=\"1\" class=\"dataframe\">\n",
       "  <thead>\n",
       "    <tr style=\"text-align: right;\">\n",
       "      <th></th>\n",
       "      <th>Transaction ID</th>\n",
       "      <th>Item</th>\n",
       "      <th>Quantity</th>\n",
       "      <th>Price Per Unit</th>\n",
       "      <th>Total Spent</th>\n",
       "      <th>Payment Method</th>\n",
       "      <th>Location</th>\n",
       "      <th>Transaction Date</th>\n",
       "    </tr>\n",
       "  </thead>\n",
       "  <tbody>\n",
       "    <tr>\n",
       "      <th>0</th>\n",
       "      <td>TXN_1961373</td>\n",
       "      <td>Coffee</td>\n",
       "      <td>2</td>\n",
       "      <td>2.0</td>\n",
       "      <td>4.0</td>\n",
       "      <td>Credit Card</td>\n",
       "      <td>Takeaway</td>\n",
       "      <td>2023-09-08</td>\n",
       "    </tr>\n",
       "    <tr>\n",
       "      <th>1</th>\n",
       "      <td>TXN_4977031</td>\n",
       "      <td>Cake</td>\n",
       "      <td>4</td>\n",
       "      <td>3.0</td>\n",
       "      <td>12.0</td>\n",
       "      <td>Cash</td>\n",
       "      <td>In-store</td>\n",
       "      <td>2023-05-16</td>\n",
       "    </tr>\n",
       "    <tr>\n",
       "      <th>2</th>\n",
       "      <td>TXN_4271903</td>\n",
       "      <td>Cookie</td>\n",
       "      <td>4</td>\n",
       "      <td>1.0</td>\n",
       "      <td>4.0</td>\n",
       "      <td>Credit Card</td>\n",
       "      <td>In-store</td>\n",
       "      <td>2023-07-19</td>\n",
       "    </tr>\n",
       "    <tr>\n",
       "      <th>3</th>\n",
       "      <td>TXN_7034554</td>\n",
       "      <td>Salad</td>\n",
       "      <td>2</td>\n",
       "      <td>5.0</td>\n",
       "      <td>10.0</td>\n",
       "      <td>NaN</td>\n",
       "      <td>NaN</td>\n",
       "      <td>2023-04-27</td>\n",
       "    </tr>\n",
       "    <tr>\n",
       "      <th>4</th>\n",
       "      <td>TXN_3160411</td>\n",
       "      <td>Coffee</td>\n",
       "      <td>2</td>\n",
       "      <td>2.0</td>\n",
       "      <td>4.0</td>\n",
       "      <td>Digital Wallet</td>\n",
       "      <td>In-store</td>\n",
       "      <td>2023-06-11</td>\n",
       "    </tr>\n",
       "    <tr>\n",
       "      <th>5</th>\n",
       "      <td>TXN_2602893</td>\n",
       "      <td>Smoothie</td>\n",
       "      <td>5</td>\n",
       "      <td>4.0</td>\n",
       "      <td>20.0</td>\n",
       "      <td>Credit Card</td>\n",
       "      <td>NaN</td>\n",
       "      <td>2023-03-31</td>\n",
       "    </tr>\n",
       "    <tr>\n",
       "      <th>7</th>\n",
       "      <td>TXN_6699534</td>\n",
       "      <td>Sandwich</td>\n",
       "      <td>4</td>\n",
       "      <td>4.0</td>\n",
       "      <td>16.0</td>\n",
       "      <td>Cash</td>\n",
       "      <td>NaN</td>\n",
       "      <td>2023-10-28</td>\n",
       "    </tr>\n",
       "    <tr>\n",
       "      <th>9</th>\n",
       "      <td>TXN_2064365</td>\n",
       "      <td>Sandwich</td>\n",
       "      <td>5</td>\n",
       "      <td>4.0</td>\n",
       "      <td>20.0</td>\n",
       "      <td>NaN</td>\n",
       "      <td>In-store</td>\n",
       "      <td>2023-12-31</td>\n",
       "    </tr>\n",
       "    <tr>\n",
       "      <th>10</th>\n",
       "      <td>TXN_2548360</td>\n",
       "      <td>Salad</td>\n",
       "      <td>5</td>\n",
       "      <td>5.0</td>\n",
       "      <td>25.0</td>\n",
       "      <td>Cash</td>\n",
       "      <td>Takeaway</td>\n",
       "      <td>2023-11-07</td>\n",
       "    </tr>\n",
       "    <tr>\n",
       "      <th>11</th>\n",
       "      <td>TXN_3051279</td>\n",
       "      <td>Sandwich</td>\n",
       "      <td>2</td>\n",
       "      <td>4.0</td>\n",
       "      <td>8.0</td>\n",
       "      <td>Credit Card</td>\n",
       "      <td>Takeaway</td>\n",
       "      <td>NaN</td>\n",
       "    </tr>\n",
       "  </tbody>\n",
       "</table>\n",
       "</div>"
      ],
      "text/plain": [
       "   Transaction ID      Item  Quantity  Price Per Unit  Total Spent  \\\n",
       "0     TXN_1961373    Coffee         2             2.0          4.0   \n",
       "1     TXN_4977031      Cake         4             3.0         12.0   \n",
       "2     TXN_4271903    Cookie         4             1.0          4.0   \n",
       "3     TXN_7034554     Salad         2             5.0         10.0   \n",
       "4     TXN_3160411    Coffee         2             2.0          4.0   \n",
       "5     TXN_2602893  Smoothie         5             4.0         20.0   \n",
       "7     TXN_6699534  Sandwich         4             4.0         16.0   \n",
       "9     TXN_2064365  Sandwich         5             4.0         20.0   \n",
       "10    TXN_2548360     Salad         5             5.0         25.0   \n",
       "11    TXN_3051279  Sandwich         2             4.0          8.0   \n",
       "\n",
       "    Payment Method  Location Transaction Date  \n",
       "0      Credit Card  Takeaway       2023-09-08  \n",
       "1             Cash  In-store       2023-05-16  \n",
       "2      Credit Card  In-store       2023-07-19  \n",
       "3              NaN       NaN       2023-04-27  \n",
       "4   Digital Wallet  In-store       2023-06-11  \n",
       "5      Credit Card       NaN       2023-03-31  \n",
       "7             Cash       NaN       2023-10-28  \n",
       "9              NaN  In-store       2023-12-31  \n",
       "10            Cash  Takeaway       2023-11-07  \n",
       "11     Credit Card  Takeaway              NaN  "
      ]
     },
     "execution_count": 46,
     "metadata": {},
     "output_type": "execute_result"
    }
   ],
   "source": [
    "# Updated first 10 rows\n",
    "sales.head(n=10)"
   ]
  },
  {
   "cell_type": "markdown",
   "id": "f593b976",
   "metadata": {},
   "source": [
    "At this point, we have cleaned the sales data enough to do some analysis on it. We will create a few different copies of the dataset for different purposes."
   ]
  },
  {
   "cell_type": "markdown",
   "id": "dc0b86ad",
   "metadata": {},
   "source": [
    "## Branching out Sales Data"
   ]
  },
  {
   "cell_type": "markdown",
   "id": "90e968c0",
   "metadata": {},
   "source": [
    "### Creating Copies of Sales Data"
   ]
  },
  {
   "cell_type": "code",
   "execution_count": 47,
   "id": "2e67f336",
   "metadata": {},
   "outputs": [],
   "source": [
    "# Create copies of semi-clean data to further clean in different ways for analysis\n",
    "items = sales.copy()\n",
    "payment_methods = sales.copy()\n",
    "locations = sales.copy()\n",
    "dates = sales.copy()"
   ]
  },
  {
   "cell_type": "markdown",
   "id": "01a29fe2",
   "metadata": {},
   "source": [
    "### Focus on Items"
   ]
  },
  {
   "cell_type": "markdown",
   "id": "58f2dde5",
   "metadata": {},
   "source": [
    "We now move on to the items table to clean it."
   ]
  },
  {
   "cell_type": "markdown",
   "id": "aed239f3",
   "metadata": {},
   "source": [
    "#### Overview of Table"
   ]
  },
  {
   "cell_type": "code",
   "execution_count": 48,
   "id": "fda3cef0",
   "metadata": {},
   "outputs": [
    {
     "name": "stdout",
     "output_type": "stream",
     "text": [
      "<class 'pandas.core.frame.DataFrame'>\n",
      "Index: 9468 entries, 0 to 9999\n",
      "Data columns (total 8 columns):\n",
      " #   Column            Non-Null Count  Dtype  \n",
      "---  ------            --------------  -----  \n",
      " 0   Transaction ID    9468 non-null   object \n",
      " 1   Item              9468 non-null   object \n",
      " 2   Quantity          9468 non-null   int32  \n",
      " 3   Price Per Unit    9468 non-null   float64\n",
      " 4   Total Spent       9468 non-null   float64\n",
      " 5   Payment Method    6454 non-null   object \n",
      " 6   Location          5717 non-null   object \n",
      " 7   Transaction Date  9035 non-null   object \n",
      "dtypes: float64(2), int32(1), object(5)\n",
      "memory usage: 628.7+ KB\n"
     ]
    }
   ],
   "source": [
    "\n",
    "# Overview of items table\n",
    "items.info()"
   ]
  },
  {
   "cell_type": "code",
   "execution_count": 49,
   "id": "45479545",
   "metadata": {},
   "outputs": [
    {
     "data": {
      "text/plain": [
       "Transaction ID         0\n",
       "Item                   0\n",
       "Quantity               0\n",
       "Price Per Unit         0\n",
       "Total Spent            0\n",
       "Payment Method      3014\n",
       "Location            3751\n",
       "Transaction Date     433\n",
       "dtype: int64"
      ]
     },
     "execution_count": 49,
     "metadata": {},
     "output_type": "execute_result"
    }
   ],
   "source": [
    "# Null values in items table\n",
    "items.isna().sum()"
   ]
  },
  {
   "cell_type": "code",
   "execution_count": 50,
   "id": "15642bb8",
   "metadata": {},
   "outputs": [
    {
     "data": {
      "text/html": [
       "<div>\n",
       "<style scoped>\n",
       "    .dataframe tbody tr th:only-of-type {\n",
       "        vertical-align: middle;\n",
       "    }\n",
       "\n",
       "    .dataframe tbody tr th {\n",
       "        vertical-align: top;\n",
       "    }\n",
       "\n",
       "    .dataframe thead th {\n",
       "        text-align: right;\n",
       "    }\n",
       "</style>\n",
       "<table border=\"1\" class=\"dataframe\">\n",
       "  <thead>\n",
       "    <tr style=\"text-align: right;\">\n",
       "      <th></th>\n",
       "      <th>Transaction ID</th>\n",
       "      <th>Item</th>\n",
       "      <th>Quantity</th>\n",
       "      <th>Price Per Unit</th>\n",
       "      <th>Total Spent</th>\n",
       "      <th>Payment Method</th>\n",
       "      <th>Location</th>\n",
       "      <th>Transaction Date</th>\n",
       "    </tr>\n",
       "  </thead>\n",
       "  <tbody>\n",
       "    <tr>\n",
       "      <th>0</th>\n",
       "      <td>TXN_1961373</td>\n",
       "      <td>Coffee</td>\n",
       "      <td>2</td>\n",
       "      <td>2.0</td>\n",
       "      <td>4.0</td>\n",
       "      <td>Credit Card</td>\n",
       "      <td>Takeaway</td>\n",
       "      <td>2023-09-08</td>\n",
       "    </tr>\n",
       "    <tr>\n",
       "      <th>1</th>\n",
       "      <td>TXN_4977031</td>\n",
       "      <td>Cake</td>\n",
       "      <td>4</td>\n",
       "      <td>3.0</td>\n",
       "      <td>12.0</td>\n",
       "      <td>Cash</td>\n",
       "      <td>In-store</td>\n",
       "      <td>2023-05-16</td>\n",
       "    </tr>\n",
       "    <tr>\n",
       "      <th>2</th>\n",
       "      <td>TXN_4271903</td>\n",
       "      <td>Cookie</td>\n",
       "      <td>4</td>\n",
       "      <td>1.0</td>\n",
       "      <td>4.0</td>\n",
       "      <td>Credit Card</td>\n",
       "      <td>In-store</td>\n",
       "      <td>2023-07-19</td>\n",
       "    </tr>\n",
       "    <tr>\n",
       "      <th>3</th>\n",
       "      <td>TXN_7034554</td>\n",
       "      <td>Salad</td>\n",
       "      <td>2</td>\n",
       "      <td>5.0</td>\n",
       "      <td>10.0</td>\n",
       "      <td>NaN</td>\n",
       "      <td>NaN</td>\n",
       "      <td>2023-04-27</td>\n",
       "    </tr>\n",
       "    <tr>\n",
       "      <th>4</th>\n",
       "      <td>TXN_3160411</td>\n",
       "      <td>Coffee</td>\n",
       "      <td>2</td>\n",
       "      <td>2.0</td>\n",
       "      <td>4.0</td>\n",
       "      <td>Digital Wallet</td>\n",
       "      <td>In-store</td>\n",
       "      <td>2023-06-11</td>\n",
       "    </tr>\n",
       "    <tr>\n",
       "      <th>5</th>\n",
       "      <td>TXN_2602893</td>\n",
       "      <td>Smoothie</td>\n",
       "      <td>5</td>\n",
       "      <td>4.0</td>\n",
       "      <td>20.0</td>\n",
       "      <td>Credit Card</td>\n",
       "      <td>NaN</td>\n",
       "      <td>2023-03-31</td>\n",
       "    </tr>\n",
       "    <tr>\n",
       "      <th>7</th>\n",
       "      <td>TXN_6699534</td>\n",
       "      <td>Sandwich</td>\n",
       "      <td>4</td>\n",
       "      <td>4.0</td>\n",
       "      <td>16.0</td>\n",
       "      <td>Cash</td>\n",
       "      <td>NaN</td>\n",
       "      <td>2023-10-28</td>\n",
       "    </tr>\n",
       "    <tr>\n",
       "      <th>9</th>\n",
       "      <td>TXN_2064365</td>\n",
       "      <td>Sandwich</td>\n",
       "      <td>5</td>\n",
       "      <td>4.0</td>\n",
       "      <td>20.0</td>\n",
       "      <td>NaN</td>\n",
       "      <td>In-store</td>\n",
       "      <td>2023-12-31</td>\n",
       "    </tr>\n",
       "    <tr>\n",
       "      <th>10</th>\n",
       "      <td>TXN_2548360</td>\n",
       "      <td>Salad</td>\n",
       "      <td>5</td>\n",
       "      <td>5.0</td>\n",
       "      <td>25.0</td>\n",
       "      <td>Cash</td>\n",
       "      <td>Takeaway</td>\n",
       "      <td>2023-11-07</td>\n",
       "    </tr>\n",
       "    <tr>\n",
       "      <th>11</th>\n",
       "      <td>TXN_3051279</td>\n",
       "      <td>Sandwich</td>\n",
       "      <td>2</td>\n",
       "      <td>4.0</td>\n",
       "      <td>8.0</td>\n",
       "      <td>Credit Card</td>\n",
       "      <td>Takeaway</td>\n",
       "      <td>NaN</td>\n",
       "    </tr>\n",
       "  </tbody>\n",
       "</table>\n",
       "</div>"
      ],
      "text/plain": [
       "   Transaction ID      Item  Quantity  Price Per Unit  Total Spent  \\\n",
       "0     TXN_1961373    Coffee         2             2.0          4.0   \n",
       "1     TXN_4977031      Cake         4             3.0         12.0   \n",
       "2     TXN_4271903    Cookie         4             1.0          4.0   \n",
       "3     TXN_7034554     Salad         2             5.0         10.0   \n",
       "4     TXN_3160411    Coffee         2             2.0          4.0   \n",
       "5     TXN_2602893  Smoothie         5             4.0         20.0   \n",
       "7     TXN_6699534  Sandwich         4             4.0         16.0   \n",
       "9     TXN_2064365  Sandwich         5             4.0         20.0   \n",
       "10    TXN_2548360     Salad         5             5.0         25.0   \n",
       "11    TXN_3051279  Sandwich         2             4.0          8.0   \n",
       "\n",
       "    Payment Method  Location Transaction Date  \n",
       "0      Credit Card  Takeaway       2023-09-08  \n",
       "1             Cash  In-store       2023-05-16  \n",
       "2      Credit Card  In-store       2023-07-19  \n",
       "3              NaN       NaN       2023-04-27  \n",
       "4   Digital Wallet  In-store       2023-06-11  \n",
       "5      Credit Card       NaN       2023-03-31  \n",
       "7             Cash       NaN       2023-10-28  \n",
       "9              NaN  In-store       2023-12-31  \n",
       "10            Cash  Takeaway       2023-11-07  \n",
       "11     Credit Card  Takeaway              NaN  "
      ]
     },
     "execution_count": 50,
     "metadata": {},
     "output_type": "execute_result"
    }
   ],
   "source": [
    "# First 10 rows of items table\n",
    "items.head(n=10)"
   ]
  },
  {
   "cell_type": "markdown",
   "id": "7b811377",
   "metadata": {},
   "source": [
    "### Focus on Payment Methods"
   ]
  },
  {
   "cell_type": "markdown",
   "id": "a6c3d2f6",
   "metadata": {},
   "source": [
    "We now move on to the payment methods table to clean it."
   ]
  },
  {
   "cell_type": "markdown",
   "id": "00a9eec3",
   "metadata": {},
   "source": [
    "#### Overview of Table"
   ]
  },
  {
   "cell_type": "code",
   "execution_count": 51,
   "id": "0c6c0259",
   "metadata": {},
   "outputs": [
    {
     "name": "stdout",
     "output_type": "stream",
     "text": [
      "<class 'pandas.core.frame.DataFrame'>\n",
      "Index: 9468 entries, 0 to 9999\n",
      "Data columns (total 8 columns):\n",
      " #   Column            Non-Null Count  Dtype  \n",
      "---  ------            --------------  -----  \n",
      " 0   Transaction ID    9468 non-null   object \n",
      " 1   Item              9468 non-null   object \n",
      " 2   Quantity          9468 non-null   int32  \n",
      " 3   Price Per Unit    9468 non-null   float64\n",
      " 4   Total Spent       9468 non-null   float64\n",
      " 5   Payment Method    6454 non-null   object \n",
      " 6   Location          5717 non-null   object \n",
      " 7   Transaction Date  9035 non-null   object \n",
      "dtypes: float64(2), int32(1), object(5)\n",
      "memory usage: 628.7+ KB\n"
     ]
    }
   ],
   "source": [
    "# Overview of payment methods table\n",
    "payment_methods.info()"
   ]
  },
  {
   "cell_type": "code",
   "execution_count": 52,
   "id": "68bbc68e",
   "metadata": {},
   "outputs": [
    {
     "data": {
      "text/plain": [
       "Transaction ID         0\n",
       "Item                   0\n",
       "Quantity               0\n",
       "Price Per Unit         0\n",
       "Total Spent            0\n",
       "Payment Method      3014\n",
       "Location            3751\n",
       "Transaction Date     433\n",
       "dtype: int64"
      ]
     },
     "execution_count": 52,
     "metadata": {},
     "output_type": "execute_result"
    }
   ],
   "source": [
    "# Null values in payment methods table\n",
    "payment_methods.isna().sum()"
   ]
  },
  {
   "cell_type": "code",
   "execution_count": 53,
   "id": "3b109b69",
   "metadata": {},
   "outputs": [
    {
     "data": {
      "text/html": [
       "<div>\n",
       "<style scoped>\n",
       "    .dataframe tbody tr th:only-of-type {\n",
       "        vertical-align: middle;\n",
       "    }\n",
       "\n",
       "    .dataframe tbody tr th {\n",
       "        vertical-align: top;\n",
       "    }\n",
       "\n",
       "    .dataframe thead th {\n",
       "        text-align: right;\n",
       "    }\n",
       "</style>\n",
       "<table border=\"1\" class=\"dataframe\">\n",
       "  <thead>\n",
       "    <tr style=\"text-align: right;\">\n",
       "      <th></th>\n",
       "      <th>Transaction ID</th>\n",
       "      <th>Item</th>\n",
       "      <th>Quantity</th>\n",
       "      <th>Price Per Unit</th>\n",
       "      <th>Total Spent</th>\n",
       "      <th>Payment Method</th>\n",
       "      <th>Location</th>\n",
       "      <th>Transaction Date</th>\n",
       "    </tr>\n",
       "  </thead>\n",
       "  <tbody>\n",
       "    <tr>\n",
       "      <th>0</th>\n",
       "      <td>TXN_1961373</td>\n",
       "      <td>Coffee</td>\n",
       "      <td>2</td>\n",
       "      <td>2.0</td>\n",
       "      <td>4.0</td>\n",
       "      <td>Credit Card</td>\n",
       "      <td>Takeaway</td>\n",
       "      <td>2023-09-08</td>\n",
       "    </tr>\n",
       "    <tr>\n",
       "      <th>1</th>\n",
       "      <td>TXN_4977031</td>\n",
       "      <td>Cake</td>\n",
       "      <td>4</td>\n",
       "      <td>3.0</td>\n",
       "      <td>12.0</td>\n",
       "      <td>Cash</td>\n",
       "      <td>In-store</td>\n",
       "      <td>2023-05-16</td>\n",
       "    </tr>\n",
       "    <tr>\n",
       "      <th>2</th>\n",
       "      <td>TXN_4271903</td>\n",
       "      <td>Cookie</td>\n",
       "      <td>4</td>\n",
       "      <td>1.0</td>\n",
       "      <td>4.0</td>\n",
       "      <td>Credit Card</td>\n",
       "      <td>In-store</td>\n",
       "      <td>2023-07-19</td>\n",
       "    </tr>\n",
       "    <tr>\n",
       "      <th>3</th>\n",
       "      <td>TXN_7034554</td>\n",
       "      <td>Salad</td>\n",
       "      <td>2</td>\n",
       "      <td>5.0</td>\n",
       "      <td>10.0</td>\n",
       "      <td>NaN</td>\n",
       "      <td>NaN</td>\n",
       "      <td>2023-04-27</td>\n",
       "    </tr>\n",
       "    <tr>\n",
       "      <th>4</th>\n",
       "      <td>TXN_3160411</td>\n",
       "      <td>Coffee</td>\n",
       "      <td>2</td>\n",
       "      <td>2.0</td>\n",
       "      <td>4.0</td>\n",
       "      <td>Digital Wallet</td>\n",
       "      <td>In-store</td>\n",
       "      <td>2023-06-11</td>\n",
       "    </tr>\n",
       "    <tr>\n",
       "      <th>5</th>\n",
       "      <td>TXN_2602893</td>\n",
       "      <td>Smoothie</td>\n",
       "      <td>5</td>\n",
       "      <td>4.0</td>\n",
       "      <td>20.0</td>\n",
       "      <td>Credit Card</td>\n",
       "      <td>NaN</td>\n",
       "      <td>2023-03-31</td>\n",
       "    </tr>\n",
       "    <tr>\n",
       "      <th>7</th>\n",
       "      <td>TXN_6699534</td>\n",
       "      <td>Sandwich</td>\n",
       "      <td>4</td>\n",
       "      <td>4.0</td>\n",
       "      <td>16.0</td>\n",
       "      <td>Cash</td>\n",
       "      <td>NaN</td>\n",
       "      <td>2023-10-28</td>\n",
       "    </tr>\n",
       "    <tr>\n",
       "      <th>9</th>\n",
       "      <td>TXN_2064365</td>\n",
       "      <td>Sandwich</td>\n",
       "      <td>5</td>\n",
       "      <td>4.0</td>\n",
       "      <td>20.0</td>\n",
       "      <td>NaN</td>\n",
       "      <td>In-store</td>\n",
       "      <td>2023-12-31</td>\n",
       "    </tr>\n",
       "    <tr>\n",
       "      <th>10</th>\n",
       "      <td>TXN_2548360</td>\n",
       "      <td>Salad</td>\n",
       "      <td>5</td>\n",
       "      <td>5.0</td>\n",
       "      <td>25.0</td>\n",
       "      <td>Cash</td>\n",
       "      <td>Takeaway</td>\n",
       "      <td>2023-11-07</td>\n",
       "    </tr>\n",
       "    <tr>\n",
       "      <th>11</th>\n",
       "      <td>TXN_3051279</td>\n",
       "      <td>Sandwich</td>\n",
       "      <td>2</td>\n",
       "      <td>4.0</td>\n",
       "      <td>8.0</td>\n",
       "      <td>Credit Card</td>\n",
       "      <td>Takeaway</td>\n",
       "      <td>NaN</td>\n",
       "    </tr>\n",
       "  </tbody>\n",
       "</table>\n",
       "</div>"
      ],
      "text/plain": [
       "   Transaction ID      Item  Quantity  Price Per Unit  Total Spent  \\\n",
       "0     TXN_1961373    Coffee         2             2.0          4.0   \n",
       "1     TXN_4977031      Cake         4             3.0         12.0   \n",
       "2     TXN_4271903    Cookie         4             1.0          4.0   \n",
       "3     TXN_7034554     Salad         2             5.0         10.0   \n",
       "4     TXN_3160411    Coffee         2             2.0          4.0   \n",
       "5     TXN_2602893  Smoothie         5             4.0         20.0   \n",
       "7     TXN_6699534  Sandwich         4             4.0         16.0   \n",
       "9     TXN_2064365  Sandwich         5             4.0         20.0   \n",
       "10    TXN_2548360     Salad         5             5.0         25.0   \n",
       "11    TXN_3051279  Sandwich         2             4.0          8.0   \n",
       "\n",
       "    Payment Method  Location Transaction Date  \n",
       "0      Credit Card  Takeaway       2023-09-08  \n",
       "1             Cash  In-store       2023-05-16  \n",
       "2      Credit Card  In-store       2023-07-19  \n",
       "3              NaN       NaN       2023-04-27  \n",
       "4   Digital Wallet  In-store       2023-06-11  \n",
       "5      Credit Card       NaN       2023-03-31  \n",
       "7             Cash       NaN       2023-10-28  \n",
       "9              NaN  In-store       2023-12-31  \n",
       "10            Cash  Takeaway       2023-11-07  \n",
       "11     Credit Card  Takeaway              NaN  "
      ]
     },
     "execution_count": 53,
     "metadata": {},
     "output_type": "execute_result"
    }
   ],
   "source": [
    "# First 10 rows of payment methods table\n",
    "payment_methods.head(n=10)"
   ]
  },
  {
   "cell_type": "markdown",
   "id": "929d8a3c",
   "metadata": {},
   "source": [
    "#### Removing Missing Values"
   ]
  },
  {
   "cell_type": "code",
   "execution_count": 54,
   "id": "26e80b99",
   "metadata": {},
   "outputs": [],
   "source": [
    "# Remove null values\n",
    "payment_methods = payment_methods[payment_methods[\"Payment Method\"].notna()]"
   ]
  },
  {
   "cell_type": "markdown",
   "id": "eeeff7f1",
   "metadata": {},
   "source": [
    "### Focus on Location"
   ]
  },
  {
   "cell_type": "markdown",
   "id": "d524b702",
   "metadata": {},
   "source": [
    "We now move on to the location table to clean it."
   ]
  },
  {
   "cell_type": "markdown",
   "id": "da0be713",
   "metadata": {},
   "source": [
    "#### Overview of Table"
   ]
  },
  {
   "cell_type": "code",
   "execution_count": 55,
   "id": "5d9d6367",
   "metadata": {},
   "outputs": [
    {
     "name": "stdout",
     "output_type": "stream",
     "text": [
      "<class 'pandas.core.frame.DataFrame'>\n",
      "Index: 9468 entries, 0 to 9999\n",
      "Data columns (total 8 columns):\n",
      " #   Column            Non-Null Count  Dtype  \n",
      "---  ------            --------------  -----  \n",
      " 0   Transaction ID    9468 non-null   object \n",
      " 1   Item              9468 non-null   object \n",
      " 2   Quantity          9468 non-null   int32  \n",
      " 3   Price Per Unit    9468 non-null   float64\n",
      " 4   Total Spent       9468 non-null   float64\n",
      " 5   Payment Method    6454 non-null   object \n",
      " 6   Location          5717 non-null   object \n",
      " 7   Transaction Date  9035 non-null   object \n",
      "dtypes: float64(2), int32(1), object(5)\n",
      "memory usage: 628.7+ KB\n"
     ]
    }
   ],
   "source": [
    "# Overview of locations table\n",
    "locations.info()"
   ]
  },
  {
   "cell_type": "code",
   "execution_count": 56,
   "id": "a98bb3b4",
   "metadata": {},
   "outputs": [
    {
     "data": {
      "text/plain": [
       "Transaction ID         0\n",
       "Item                   0\n",
       "Quantity               0\n",
       "Price Per Unit         0\n",
       "Total Spent            0\n",
       "Payment Method      3014\n",
       "Location            3751\n",
       "Transaction Date     433\n",
       "dtype: int64"
      ]
     },
     "execution_count": 56,
     "metadata": {},
     "output_type": "execute_result"
    }
   ],
   "source": [
    "# Null values in locations table\n",
    "locations.isna().sum()"
   ]
  },
  {
   "cell_type": "code",
   "execution_count": 57,
   "id": "6ed90f6c",
   "metadata": {},
   "outputs": [
    {
     "data": {
      "text/html": [
       "<div>\n",
       "<style scoped>\n",
       "    .dataframe tbody tr th:only-of-type {\n",
       "        vertical-align: middle;\n",
       "    }\n",
       "\n",
       "    .dataframe tbody tr th {\n",
       "        vertical-align: top;\n",
       "    }\n",
       "\n",
       "    .dataframe thead th {\n",
       "        text-align: right;\n",
       "    }\n",
       "</style>\n",
       "<table border=\"1\" class=\"dataframe\">\n",
       "  <thead>\n",
       "    <tr style=\"text-align: right;\">\n",
       "      <th></th>\n",
       "      <th>Transaction ID</th>\n",
       "      <th>Item</th>\n",
       "      <th>Quantity</th>\n",
       "      <th>Price Per Unit</th>\n",
       "      <th>Total Spent</th>\n",
       "      <th>Payment Method</th>\n",
       "      <th>Location</th>\n",
       "      <th>Transaction Date</th>\n",
       "    </tr>\n",
       "  </thead>\n",
       "  <tbody>\n",
       "    <tr>\n",
       "      <th>0</th>\n",
       "      <td>TXN_1961373</td>\n",
       "      <td>Coffee</td>\n",
       "      <td>2</td>\n",
       "      <td>2.0</td>\n",
       "      <td>4.0</td>\n",
       "      <td>Credit Card</td>\n",
       "      <td>Takeaway</td>\n",
       "      <td>2023-09-08</td>\n",
       "    </tr>\n",
       "    <tr>\n",
       "      <th>1</th>\n",
       "      <td>TXN_4977031</td>\n",
       "      <td>Cake</td>\n",
       "      <td>4</td>\n",
       "      <td>3.0</td>\n",
       "      <td>12.0</td>\n",
       "      <td>Cash</td>\n",
       "      <td>In-store</td>\n",
       "      <td>2023-05-16</td>\n",
       "    </tr>\n",
       "    <tr>\n",
       "      <th>2</th>\n",
       "      <td>TXN_4271903</td>\n",
       "      <td>Cookie</td>\n",
       "      <td>4</td>\n",
       "      <td>1.0</td>\n",
       "      <td>4.0</td>\n",
       "      <td>Credit Card</td>\n",
       "      <td>In-store</td>\n",
       "      <td>2023-07-19</td>\n",
       "    </tr>\n",
       "    <tr>\n",
       "      <th>3</th>\n",
       "      <td>TXN_7034554</td>\n",
       "      <td>Salad</td>\n",
       "      <td>2</td>\n",
       "      <td>5.0</td>\n",
       "      <td>10.0</td>\n",
       "      <td>NaN</td>\n",
       "      <td>NaN</td>\n",
       "      <td>2023-04-27</td>\n",
       "    </tr>\n",
       "    <tr>\n",
       "      <th>4</th>\n",
       "      <td>TXN_3160411</td>\n",
       "      <td>Coffee</td>\n",
       "      <td>2</td>\n",
       "      <td>2.0</td>\n",
       "      <td>4.0</td>\n",
       "      <td>Digital Wallet</td>\n",
       "      <td>In-store</td>\n",
       "      <td>2023-06-11</td>\n",
       "    </tr>\n",
       "    <tr>\n",
       "      <th>5</th>\n",
       "      <td>TXN_2602893</td>\n",
       "      <td>Smoothie</td>\n",
       "      <td>5</td>\n",
       "      <td>4.0</td>\n",
       "      <td>20.0</td>\n",
       "      <td>Credit Card</td>\n",
       "      <td>NaN</td>\n",
       "      <td>2023-03-31</td>\n",
       "    </tr>\n",
       "    <tr>\n",
       "      <th>7</th>\n",
       "      <td>TXN_6699534</td>\n",
       "      <td>Sandwich</td>\n",
       "      <td>4</td>\n",
       "      <td>4.0</td>\n",
       "      <td>16.0</td>\n",
       "      <td>Cash</td>\n",
       "      <td>NaN</td>\n",
       "      <td>2023-10-28</td>\n",
       "    </tr>\n",
       "    <tr>\n",
       "      <th>9</th>\n",
       "      <td>TXN_2064365</td>\n",
       "      <td>Sandwich</td>\n",
       "      <td>5</td>\n",
       "      <td>4.0</td>\n",
       "      <td>20.0</td>\n",
       "      <td>NaN</td>\n",
       "      <td>In-store</td>\n",
       "      <td>2023-12-31</td>\n",
       "    </tr>\n",
       "    <tr>\n",
       "      <th>10</th>\n",
       "      <td>TXN_2548360</td>\n",
       "      <td>Salad</td>\n",
       "      <td>5</td>\n",
       "      <td>5.0</td>\n",
       "      <td>25.0</td>\n",
       "      <td>Cash</td>\n",
       "      <td>Takeaway</td>\n",
       "      <td>2023-11-07</td>\n",
       "    </tr>\n",
       "    <tr>\n",
       "      <th>11</th>\n",
       "      <td>TXN_3051279</td>\n",
       "      <td>Sandwich</td>\n",
       "      <td>2</td>\n",
       "      <td>4.0</td>\n",
       "      <td>8.0</td>\n",
       "      <td>Credit Card</td>\n",
       "      <td>Takeaway</td>\n",
       "      <td>NaN</td>\n",
       "    </tr>\n",
       "  </tbody>\n",
       "</table>\n",
       "</div>"
      ],
      "text/plain": [
       "   Transaction ID      Item  Quantity  Price Per Unit  Total Spent  \\\n",
       "0     TXN_1961373    Coffee         2             2.0          4.0   \n",
       "1     TXN_4977031      Cake         4             3.0         12.0   \n",
       "2     TXN_4271903    Cookie         4             1.0          4.0   \n",
       "3     TXN_7034554     Salad         2             5.0         10.0   \n",
       "4     TXN_3160411    Coffee         2             2.0          4.0   \n",
       "5     TXN_2602893  Smoothie         5             4.0         20.0   \n",
       "7     TXN_6699534  Sandwich         4             4.0         16.0   \n",
       "9     TXN_2064365  Sandwich         5             4.0         20.0   \n",
       "10    TXN_2548360     Salad         5             5.0         25.0   \n",
       "11    TXN_3051279  Sandwich         2             4.0          8.0   \n",
       "\n",
       "    Payment Method  Location Transaction Date  \n",
       "0      Credit Card  Takeaway       2023-09-08  \n",
       "1             Cash  In-store       2023-05-16  \n",
       "2      Credit Card  In-store       2023-07-19  \n",
       "3              NaN       NaN       2023-04-27  \n",
       "4   Digital Wallet  In-store       2023-06-11  \n",
       "5      Credit Card       NaN       2023-03-31  \n",
       "7             Cash       NaN       2023-10-28  \n",
       "9              NaN  In-store       2023-12-31  \n",
       "10            Cash  Takeaway       2023-11-07  \n",
       "11     Credit Card  Takeaway              NaN  "
      ]
     },
     "execution_count": 57,
     "metadata": {},
     "output_type": "execute_result"
    }
   ],
   "source": [
    "# First 10 rows of locations table\n",
    "locations.head(n=10)"
   ]
  },
  {
   "cell_type": "markdown",
   "id": "d2065706",
   "metadata": {},
   "source": [
    "#### Removing Missing Values"
   ]
  },
  {
   "cell_type": "code",
   "execution_count": 58,
   "id": "2176d155",
   "metadata": {},
   "outputs": [],
   "source": [
    "# Remove null values\n",
    "locations = locations[locations[\"Location\"].notna()]"
   ]
  },
  {
   "cell_type": "markdown",
   "id": "3d7c886e",
   "metadata": {},
   "source": [
    "### Focus on Dates"
   ]
  },
  {
   "cell_type": "markdown",
   "id": "3fb74649",
   "metadata": {},
   "source": [
    "We now move on to the dates table to clean it."
   ]
  },
  {
   "cell_type": "markdown",
   "id": "4e93cc43",
   "metadata": {},
   "source": [
    "#### Overview of Table"
   ]
  },
  {
   "cell_type": "code",
   "execution_count": 59,
   "id": "656e5aba",
   "metadata": {},
   "outputs": [
    {
     "name": "stdout",
     "output_type": "stream",
     "text": [
      "<class 'pandas.core.frame.DataFrame'>\n",
      "Index: 9468 entries, 0 to 9999\n",
      "Data columns (total 8 columns):\n",
      " #   Column            Non-Null Count  Dtype  \n",
      "---  ------            --------------  -----  \n",
      " 0   Transaction ID    9468 non-null   object \n",
      " 1   Item              9468 non-null   object \n",
      " 2   Quantity          9468 non-null   int32  \n",
      " 3   Price Per Unit    9468 non-null   float64\n",
      " 4   Total Spent       9468 non-null   float64\n",
      " 5   Payment Method    6454 non-null   object \n",
      " 6   Location          5717 non-null   object \n",
      " 7   Transaction Date  9035 non-null   object \n",
      "dtypes: float64(2), int32(1), object(5)\n",
      "memory usage: 628.7+ KB\n"
     ]
    }
   ],
   "source": [
    "# Overview of dates table\n",
    "dates.info()"
   ]
  },
  {
   "cell_type": "code",
   "execution_count": 60,
   "id": "b007f918",
   "metadata": {},
   "outputs": [
    {
     "data": {
      "text/plain": [
       "Transaction ID         0\n",
       "Item                   0\n",
       "Quantity               0\n",
       "Price Per Unit         0\n",
       "Total Spent            0\n",
       "Payment Method      3014\n",
       "Location            3751\n",
       "Transaction Date     433\n",
       "dtype: int64"
      ]
     },
     "execution_count": 60,
     "metadata": {},
     "output_type": "execute_result"
    }
   ],
   "source": [
    "# Null values in dates table\n",
    "dates.isna().sum()"
   ]
  },
  {
   "cell_type": "code",
   "execution_count": 61,
   "id": "545b7b38",
   "metadata": {},
   "outputs": [
    {
     "data": {
      "text/html": [
       "<div>\n",
       "<style scoped>\n",
       "    .dataframe tbody tr th:only-of-type {\n",
       "        vertical-align: middle;\n",
       "    }\n",
       "\n",
       "    .dataframe tbody tr th {\n",
       "        vertical-align: top;\n",
       "    }\n",
       "\n",
       "    .dataframe thead th {\n",
       "        text-align: right;\n",
       "    }\n",
       "</style>\n",
       "<table border=\"1\" class=\"dataframe\">\n",
       "  <thead>\n",
       "    <tr style=\"text-align: right;\">\n",
       "      <th></th>\n",
       "      <th>Transaction ID</th>\n",
       "      <th>Item</th>\n",
       "      <th>Quantity</th>\n",
       "      <th>Price Per Unit</th>\n",
       "      <th>Total Spent</th>\n",
       "      <th>Payment Method</th>\n",
       "      <th>Location</th>\n",
       "      <th>Transaction Date</th>\n",
       "    </tr>\n",
       "  </thead>\n",
       "  <tbody>\n",
       "    <tr>\n",
       "      <th>0</th>\n",
       "      <td>TXN_1961373</td>\n",
       "      <td>Coffee</td>\n",
       "      <td>2</td>\n",
       "      <td>2.0</td>\n",
       "      <td>4.0</td>\n",
       "      <td>Credit Card</td>\n",
       "      <td>Takeaway</td>\n",
       "      <td>2023-09-08</td>\n",
       "    </tr>\n",
       "    <tr>\n",
       "      <th>1</th>\n",
       "      <td>TXN_4977031</td>\n",
       "      <td>Cake</td>\n",
       "      <td>4</td>\n",
       "      <td>3.0</td>\n",
       "      <td>12.0</td>\n",
       "      <td>Cash</td>\n",
       "      <td>In-store</td>\n",
       "      <td>2023-05-16</td>\n",
       "    </tr>\n",
       "    <tr>\n",
       "      <th>2</th>\n",
       "      <td>TXN_4271903</td>\n",
       "      <td>Cookie</td>\n",
       "      <td>4</td>\n",
       "      <td>1.0</td>\n",
       "      <td>4.0</td>\n",
       "      <td>Credit Card</td>\n",
       "      <td>In-store</td>\n",
       "      <td>2023-07-19</td>\n",
       "    </tr>\n",
       "    <tr>\n",
       "      <th>3</th>\n",
       "      <td>TXN_7034554</td>\n",
       "      <td>Salad</td>\n",
       "      <td>2</td>\n",
       "      <td>5.0</td>\n",
       "      <td>10.0</td>\n",
       "      <td>NaN</td>\n",
       "      <td>NaN</td>\n",
       "      <td>2023-04-27</td>\n",
       "    </tr>\n",
       "    <tr>\n",
       "      <th>4</th>\n",
       "      <td>TXN_3160411</td>\n",
       "      <td>Coffee</td>\n",
       "      <td>2</td>\n",
       "      <td>2.0</td>\n",
       "      <td>4.0</td>\n",
       "      <td>Digital Wallet</td>\n",
       "      <td>In-store</td>\n",
       "      <td>2023-06-11</td>\n",
       "    </tr>\n",
       "    <tr>\n",
       "      <th>5</th>\n",
       "      <td>TXN_2602893</td>\n",
       "      <td>Smoothie</td>\n",
       "      <td>5</td>\n",
       "      <td>4.0</td>\n",
       "      <td>20.0</td>\n",
       "      <td>Credit Card</td>\n",
       "      <td>NaN</td>\n",
       "      <td>2023-03-31</td>\n",
       "    </tr>\n",
       "    <tr>\n",
       "      <th>7</th>\n",
       "      <td>TXN_6699534</td>\n",
       "      <td>Sandwich</td>\n",
       "      <td>4</td>\n",
       "      <td>4.0</td>\n",
       "      <td>16.0</td>\n",
       "      <td>Cash</td>\n",
       "      <td>NaN</td>\n",
       "      <td>2023-10-28</td>\n",
       "    </tr>\n",
       "    <tr>\n",
       "      <th>9</th>\n",
       "      <td>TXN_2064365</td>\n",
       "      <td>Sandwich</td>\n",
       "      <td>5</td>\n",
       "      <td>4.0</td>\n",
       "      <td>20.0</td>\n",
       "      <td>NaN</td>\n",
       "      <td>In-store</td>\n",
       "      <td>2023-12-31</td>\n",
       "    </tr>\n",
       "    <tr>\n",
       "      <th>10</th>\n",
       "      <td>TXN_2548360</td>\n",
       "      <td>Salad</td>\n",
       "      <td>5</td>\n",
       "      <td>5.0</td>\n",
       "      <td>25.0</td>\n",
       "      <td>Cash</td>\n",
       "      <td>Takeaway</td>\n",
       "      <td>2023-11-07</td>\n",
       "    </tr>\n",
       "    <tr>\n",
       "      <th>11</th>\n",
       "      <td>TXN_3051279</td>\n",
       "      <td>Sandwich</td>\n",
       "      <td>2</td>\n",
       "      <td>4.0</td>\n",
       "      <td>8.0</td>\n",
       "      <td>Credit Card</td>\n",
       "      <td>Takeaway</td>\n",
       "      <td>NaN</td>\n",
       "    </tr>\n",
       "  </tbody>\n",
       "</table>\n",
       "</div>"
      ],
      "text/plain": [
       "   Transaction ID      Item  Quantity  Price Per Unit  Total Spent  \\\n",
       "0     TXN_1961373    Coffee         2             2.0          4.0   \n",
       "1     TXN_4977031      Cake         4             3.0         12.0   \n",
       "2     TXN_4271903    Cookie         4             1.0          4.0   \n",
       "3     TXN_7034554     Salad         2             5.0         10.0   \n",
       "4     TXN_3160411    Coffee         2             2.0          4.0   \n",
       "5     TXN_2602893  Smoothie         5             4.0         20.0   \n",
       "7     TXN_6699534  Sandwich         4             4.0         16.0   \n",
       "9     TXN_2064365  Sandwich         5             4.0         20.0   \n",
       "10    TXN_2548360     Salad         5             5.0         25.0   \n",
       "11    TXN_3051279  Sandwich         2             4.0          8.0   \n",
       "\n",
       "    Payment Method  Location Transaction Date  \n",
       "0      Credit Card  Takeaway       2023-09-08  \n",
       "1             Cash  In-store       2023-05-16  \n",
       "2      Credit Card  In-store       2023-07-19  \n",
       "3              NaN       NaN       2023-04-27  \n",
       "4   Digital Wallet  In-store       2023-06-11  \n",
       "5      Credit Card       NaN       2023-03-31  \n",
       "7             Cash       NaN       2023-10-28  \n",
       "9              NaN  In-store       2023-12-31  \n",
       "10            Cash  Takeaway       2023-11-07  \n",
       "11     Credit Card  Takeaway              NaN  "
      ]
     },
     "execution_count": 61,
     "metadata": {},
     "output_type": "execute_result"
    }
   ],
   "source": [
    "# First 10 rows of dates table\n",
    "dates.head(n=10)"
   ]
  },
  {
   "cell_type": "markdown",
   "id": "43c13820",
   "metadata": {},
   "source": [
    "#### Removing Missing Values"
   ]
  },
  {
   "cell_type": "code",
   "execution_count": 62,
   "id": "b511c9f0",
   "metadata": {},
   "outputs": [],
   "source": [
    "# Remove null values\n",
    "dates = dates[dates[\"Transaction Date\"].notna()]"
   ]
  },
  {
   "cell_type": "markdown",
   "id": "c862076c",
   "metadata": {},
   "source": [
    "# Generating Insights"
   ]
  },
  {
   "cell_type": "markdown",
   "id": "32607817",
   "metadata": {},
   "source": [
    "## Total Spent column"
   ]
  },
  {
   "cell_type": "code",
   "execution_count": 63,
   "id": "e06fdbcb",
   "metadata": {},
   "outputs": [
    {
     "data": {
      "image/png": "[encoded data removed]",
      "text/plain": [
       "<Figure size 640x480 with 1 Axes>"
      ]
     },
     "metadata": {},
     "output_type": "display_data"
    }
   ],
   "source": [
    "# Histogram of Total Spent\n",
    "x = items[\"Total Spent\"]\n",
    "plt.hist(x, edgecolor=\"black\", color=\"#3497DD\")\n",
    "plt.xlabel(\"Total Spent\")\n",
    "plt.ylabel(\"Frequency\")\n",
    "plt.title(\"Histogram of Total Spent per Cafe Visit\")\n",
    "plt.show()"
   ]
  },
  {
   "cell_type": "markdown",
   "id": "c7e32610",
   "metadata": {},
   "source": [
    "We see the majority of purchases are less than or equal to $10. "
   ]
  },
  {
   "cell_type": "markdown",
   "id": "fe80cfe8",
   "metadata": {},
   "source": [
    "## Items"
   ]
  },
  {
   "cell_type": "markdown",
   "id": "db3816d3",
   "metadata": {},
   "source": [
    "We will now look at the total quantity of each item purchased through a pie chart. "
   ]
  },
  {
   "cell_type": "code",
   "execution_count": 64,
   "id": "df69b7ac",
   "metadata": {},
   "outputs": [],
   "source": [
    "# Selecting relevant columns for pie chart\n",
    "items_pie = items.loc[:, [\"Item\", \"Quantity\", \"Total Spent\"]]"
   ]
  },
  {
   "cell_type": "code",
   "execution_count": 65,
   "id": "15c11558",
   "metadata": {},
   "outputs": [
    {
     "name": "stdout",
     "output_type": "stream",
     "text": [
      "<class 'pandas.core.frame.DataFrame'>\n",
      "Index: 9468 entries, 0 to 9999\n",
      "Data columns (total 3 columns):\n",
      " #   Column       Non-Null Count  Dtype  \n",
      "---  ------       --------------  -----  \n",
      " 0   Item         9468 non-null   object \n",
      " 1   Quantity     9468 non-null   int32  \n",
      " 2   Total Spent  9468 non-null   float64\n",
      "dtypes: float64(1), int32(1), object(1)\n",
      "memory usage: 258.9+ KB\n"
     ]
    }
   ],
   "source": [
    "# Overview of selected columns\n",
    "items_pie.info()"
   ]
  },
  {
   "cell_type": "code",
   "execution_count": 66,
   "id": "a880d9fd",
   "metadata": {},
   "outputs": [],
   "source": [
    "# Group by item\n",
    "items_pie_grp = items_pie.groupby(\"Item\", as_index=False)"
   ]
  },
  {
   "cell_type": "code",
   "execution_count": 67,
   "id": "89f65475",
   "metadata": {},
   "outputs": [
    {
     "data": {
      "text/html": [
       "<div>\n",
       "<style scoped>\n",
       "    .dataframe tbody tr th:only-of-type {\n",
       "        vertical-align: middle;\n",
       "    }\n",
       "\n",
       "    .dataframe tbody tr th {\n",
       "        vertical-align: top;\n",
       "    }\n",
       "\n",
       "    .dataframe thead th {\n",
       "        text-align: right;\n",
       "    }\n",
       "</style>\n",
       "<table border=\"1\" class=\"dataframe\">\n",
       "  <thead>\n",
       "    <tr style=\"text-align: right;\">\n",
       "      <th></th>\n",
       "      <th>Item</th>\n",
       "      <th>Quantity</th>\n",
       "      <th>Total Spent</th>\n",
       "    </tr>\n",
       "  </thead>\n",
       "  <tbody>\n",
       "    <tr>\n",
       "      <th>0</th>\n",
       "      <td>Cake</td>\n",
       "      <td>3459</td>\n",
       "      <td>10377.0</td>\n",
       "    </tr>\n",
       "    <tr>\n",
       "      <th>1</th>\n",
       "      <td>Coffee</td>\n",
       "      <td>3897</td>\n",
       "      <td>7794.0</td>\n",
       "    </tr>\n",
       "    <tr>\n",
       "      <th>2</th>\n",
       "      <td>Cookie</td>\n",
       "      <td>3585</td>\n",
       "      <td>3585.0</td>\n",
       "    </tr>\n",
       "    <tr>\n",
       "      <th>3</th>\n",
       "      <td>Juice</td>\n",
       "      <td>3503</td>\n",
       "      <td>10509.0</td>\n",
       "    </tr>\n",
       "    <tr>\n",
       "      <th>4</th>\n",
       "      <td>Salad</td>\n",
       "      <td>3813</td>\n",
       "      <td>19065.0</td>\n",
       "    </tr>\n",
       "    <tr>\n",
       "      <th>5</th>\n",
       "      <td>Sandwich</td>\n",
       "      <td>3411</td>\n",
       "      <td>13644.0</td>\n",
       "    </tr>\n",
       "    <tr>\n",
       "      <th>6</th>\n",
       "      <td>Smoothie</td>\n",
       "      <td>3324</td>\n",
       "      <td>13296.0</td>\n",
       "    </tr>\n",
       "    <tr>\n",
       "      <th>7</th>\n",
       "      <td>Tea</td>\n",
       "      <td>3629</td>\n",
       "      <td>5443.5</td>\n",
       "    </tr>\n",
       "  </tbody>\n",
       "</table>\n",
       "</div>"
      ],
      "text/plain": [
       "       Item  Quantity  Total Spent\n",
       "0      Cake      3459      10377.0\n",
       "1    Coffee      3897       7794.0\n",
       "2    Cookie      3585       3585.0\n",
       "3     Juice      3503      10509.0\n",
       "4     Salad      3813      19065.0\n",
       "5  Sandwich      3411      13644.0\n",
       "6  Smoothie      3324      13296.0\n",
       "7       Tea      3629       5443.5"
      ]
     },
     "execution_count": 67,
     "metadata": {},
     "output_type": "execute_result"
    }
   ],
   "source": [
    "# Sum Quantity and Total Spent for each item\n",
    "items_sum = items_pie_grp.sum()\n",
    "items_sum"
   ]
  },
  {
   "cell_type": "code",
   "execution_count": 68,
   "id": "36daf9d5",
   "metadata": {},
   "outputs": [
    {
     "data": {
      "image/png": "[encoded data removed]",
      "text/plain": [
       "<Figure size 640x480 with 1 Axes>"
      ]
     },
     "metadata": {},
     "output_type": "display_data"
    }
   ],
   "source": [
    "# Pie chart of quantity for the items\n",
    "x = items_sum[\"Quantity\"]\n",
    "labels = items_sum[\"Item\"]\n",
    "explode = [0, 0.1, 0, 0, 0, 0, 0.1, 0]\n",
    "plt.pie(x=x, labels=labels, autopct='%1.1f%%', explode=explode)\n",
    "plt.title(\"Pie Chart Showing Total Quantity (%) Sold Per Item\")\n",
    "plt.show()"
   ]
  },
  {
   "cell_type": "markdown",
   "id": "8c2d1718",
   "metadata": {},
   "source": [
    "We see that all items get ordered a fairly even amount, with coffee being the most ordered by a bit, and smoothie the least ordered by a bit."
   ]
  },
  {
   "cell_type": "code",
   "execution_count": 69,
   "id": "f4c46725",
   "metadata": {},
   "outputs": [
    {
     "data": {
      "image/png": "[encoded data removed]",
      "text/plain": [
       "<Figure size 640x480 with 1 Axes>"
      ]
     },
     "metadata": {},
     "output_type": "display_data"
    }
   ],
   "source": [
    "# Bar chart of total spent for the items\n",
    "values = items_sum[\"Total Spent\"]\n",
    "categories = items_sum[\"Item\"]\n",
    "colors = [\"blue\", \"pink\", \"orange\", \"purple\",\n",
    "          \"red\", \"violet\", \"green\", \"yellow\"]\n",
    "plt.bar(categories, values, color=colors)\n",
    "plt.xlabel(\"Items\")\n",
    "plt.ylabel(\"Total Amount Customers Spent ($)\")\n",
    "plt.title(\"Bar Chart Showing Total Amount Spent Per Item\")\n",
    "plt.show()"
   ]
  },
  {
   "cell_type": "markdown",
   "id": "4f4433b1",
   "metadata": {},
   "source": [
    "We see there is more of a difference in the total amount of money spent for each item. Salad takes a significant share and has the plurality. Whereas, cookies contribute the lowest toward the total amount spent. "
   ]
  },
  {
   "cell_type": "markdown",
   "id": "8c44974a",
   "metadata": {},
   "source": [
    "## Payment Methods"
   ]
  },
  {
   "cell_type": "markdown",
   "id": "4a79f975",
   "metadata": {},
   "source": [
    "Moving on to payment method."
   ]
  },
  {
   "cell_type": "code",
   "execution_count": 70,
   "id": "aba4d3b2",
   "metadata": {},
   "outputs": [
    {
     "data": {
      "text/plain": [
       "array(['Credit Card', 'Cash', 'Digital Wallet'], dtype=object)"
      ]
     },
     "execution_count": 70,
     "metadata": {},
     "output_type": "execute_result"
    }
   ],
   "source": [
    "# Checking unique values\n",
    "payment_unique = payment_methods[\"Payment Method\"].unique()\n",
    "payment_unique"
   ]
  },
  {
   "cell_type": "code",
   "execution_count": 71,
   "id": "5ca7f141",
   "metadata": {},
   "outputs": [
    {
     "data": {
      "text/plain": [
       "2147"
      ]
     },
     "execution_count": 71,
     "metadata": {},
     "output_type": "execute_result"
    }
   ],
   "source": [
    "# Checking how many used Credit Card\n",
    "len(payment_methods[payment_methods[\"Payment Method\"] == \"Credit Card\"])"
   ]
  },
  {
   "cell_type": "code",
   "execution_count": 72,
   "id": "406a5e5f",
   "metadata": {},
   "outputs": [
    {
     "data": {
      "text/plain": [
       "2137"
      ]
     },
     "execution_count": 72,
     "metadata": {},
     "output_type": "execute_result"
    }
   ],
   "source": [
    "# Checking how many used Cash\n",
    "len(payment_methods[payment_methods[\"Payment Method\"] == \"Cash\"])"
   ]
  },
  {
   "cell_type": "code",
   "execution_count": 73,
   "id": "ba696d23",
   "metadata": {},
   "outputs": [
    {
     "data": {
      "text/plain": [
       "2170"
      ]
     },
     "execution_count": 73,
     "metadata": {},
     "output_type": "execute_result"
    }
   ],
   "source": [
    "# Checking how many used Digital Wallet\n",
    "len(payment_methods[payment_methods[\"Payment Method\"] == \"Digital Wallet\"])"
   ]
  },
  {
   "cell_type": "code",
   "execution_count": 74,
   "id": "976ac47f",
   "metadata": {},
   "outputs": [
    {
     "data": {
      "text/plain": [
       "{'Credit Card': 2147, 'Cash': 2137, 'Digital Wallet': 2170}"
      ]
     },
     "execution_count": 74,
     "metadata": {},
     "output_type": "execute_result"
    }
   ],
   "source": [
    "# Dictionary mapping the method to the times each was used\n",
    "method_count = {col: payment_methods[\"Payment Method\"].value_counts()[\n",
    "    col] for col in payment_unique}\n",
    "method_count"
   ]
  },
  {
   "cell_type": "code",
   "execution_count": 75,
   "id": "a06973f9",
   "metadata": {},
   "outputs": [
    {
     "name": "stdout",
     "output_type": "stream",
     "text": [
      "['Credit Card', 'Cash', 'Digital Wallet'] [2147, 2137, 2170]\n"
     ]
    }
   ],
   "source": [
    "# Creating a list of methods and times used\n",
    "method = list(method_count.keys())\n",
    "count = list(method_count.values())\n",
    "print(method, count)"
   ]
  },
  {
   "cell_type": "code",
   "execution_count": 76,
   "id": "1b622fc7",
   "metadata": {},
   "outputs": [
    {
     "data": {
      "text/plain": [
       "{'Payment Method': ['Credit Card', 'Cash', 'Digital Wallet'],\n",
       " 'Times Used': [2147, 2137, 2170]}"
      ]
     },
     "execution_count": 76,
     "metadata": {},
     "output_type": "execute_result"
    }
   ],
   "source": [
    "# Assigning each list to a dictionary\n",
    "method_count_dict = {\"Payment Method\": method, \"Times Used\": count}\n",
    "method_count_dict"
   ]
  },
  {
   "cell_type": "code",
   "execution_count": 77,
   "id": "3420022f",
   "metadata": {},
   "outputs": [
    {
     "data": {
      "text/html": [
       "<div>\n",
       "<style scoped>\n",
       "    .dataframe tbody tr th:only-of-type {\n",
       "        vertical-align: middle;\n",
       "    }\n",
       "\n",
       "    .dataframe tbody tr th {\n",
       "        vertical-align: top;\n",
       "    }\n",
       "\n",
       "    .dataframe thead th {\n",
       "        text-align: right;\n",
       "    }\n",
       "</style>\n",
       "<table border=\"1\" class=\"dataframe\">\n",
       "  <thead>\n",
       "    <tr style=\"text-align: right;\">\n",
       "      <th></th>\n",
       "      <th>Payment Method</th>\n",
       "      <th>Times Used</th>\n",
       "    </tr>\n",
       "  </thead>\n",
       "  <tbody>\n",
       "    <tr>\n",
       "      <th>0</th>\n",
       "      <td>Credit Card</td>\n",
       "      <td>2147</td>\n",
       "    </tr>\n",
       "    <tr>\n",
       "      <th>1</th>\n",
       "      <td>Cash</td>\n",
       "      <td>2137</td>\n",
       "    </tr>\n",
       "    <tr>\n",
       "      <th>2</th>\n",
       "      <td>Digital Wallet</td>\n",
       "      <td>2170</td>\n",
       "    </tr>\n",
       "  </tbody>\n",
       "</table>\n",
       "</div>"
      ],
      "text/plain": [
       "   Payment Method  Times Used\n",
       "0     Credit Card        2147\n",
       "1            Cash        2137\n",
       "2  Digital Wallet        2170"
      ]
     },
     "execution_count": 77,
     "metadata": {},
     "output_type": "execute_result"
    }
   ],
   "source": [
    "# Creating a data frame to store these values\n",
    "method_count_df = pd.DataFrame(method_count_dict)\n",
    "method_count_df"
   ]
  },
  {
   "cell_type": "code",
   "execution_count": 78,
   "id": "0788cfa4",
   "metadata": {},
   "outputs": [
    {
     "data": {
      "text/html": [
       "<div>\n",
       "<style scoped>\n",
       "    .dataframe tbody tr th:only-of-type {\n",
       "        vertical-align: middle;\n",
       "    }\n",
       "\n",
       "    .dataframe tbody tr th {\n",
       "        vertical-align: top;\n",
       "    }\n",
       "\n",
       "    .dataframe thead th {\n",
       "        text-align: right;\n",
       "    }\n",
       "</style>\n",
       "<table border=\"1\" class=\"dataframe\">\n",
       "  <thead>\n",
       "    <tr style=\"text-align: right;\">\n",
       "      <th></th>\n",
       "      <th>Payment Method</th>\n",
       "      <th>Total Spent</th>\n",
       "    </tr>\n",
       "  </thead>\n",
       "  <tbody>\n",
       "    <tr>\n",
       "      <th>0</th>\n",
       "      <td>Cash</td>\n",
       "      <td>19242.5</td>\n",
       "    </tr>\n",
       "    <tr>\n",
       "      <th>1</th>\n",
       "      <td>Credit Card</td>\n",
       "      <td>19176.5</td>\n",
       "    </tr>\n",
       "    <tr>\n",
       "      <th>2</th>\n",
       "      <td>Digital Wallet</td>\n",
       "      <td>19155.5</td>\n",
       "    </tr>\n",
       "  </tbody>\n",
       "</table>\n",
       "</div>"
      ],
      "text/plain": [
       "   Payment Method  Total Spent\n",
       "0            Cash      19242.5\n",
       "1     Credit Card      19176.5\n",
       "2  Digital Wallet      19155.5"
      ]
     },
     "execution_count": 78,
     "metadata": {},
     "output_type": "execute_result"
    }
   ],
   "source": [
    "# Group by method to get total spent\n",
    "payment_methods_spent = payment_methods.loc[:, [\n",
    "    \"Payment Method\", \"Total Spent\"]]\n",
    "method_grp = payment_methods_spent.groupby(\"Payment Method\", as_index=False)\n",
    "method_total_spent = method_grp.sum()\n",
    "method_total_spent"
   ]
  },
  {
   "cell_type": "code",
   "execution_count": 79,
   "id": "43f18cd0",
   "metadata": {},
   "outputs": [
    {
     "data": {
      "text/html": [
       "<div>\n",
       "<style scoped>\n",
       "    .dataframe tbody tr th:only-of-type {\n",
       "        vertical-align: middle;\n",
       "    }\n",
       "\n",
       "    .dataframe tbody tr th {\n",
       "        vertical-align: top;\n",
       "    }\n",
       "\n",
       "    .dataframe thead th {\n",
       "        text-align: right;\n",
       "    }\n",
       "</style>\n",
       "<table border=\"1\" class=\"dataframe\">\n",
       "  <thead>\n",
       "    <tr style=\"text-align: right;\">\n",
       "      <th></th>\n",
       "      <th>Payment Method</th>\n",
       "      <th>Times Used</th>\n",
       "      <th>Total Spent</th>\n",
       "    </tr>\n",
       "  </thead>\n",
       "  <tbody>\n",
       "    <tr>\n",
       "      <th>0</th>\n",
       "      <td>Credit Card</td>\n",
       "      <td>2147</td>\n",
       "      <td>19176.5</td>\n",
       "    </tr>\n",
       "    <tr>\n",
       "      <th>1</th>\n",
       "      <td>Cash</td>\n",
       "      <td>2137</td>\n",
       "      <td>19242.5</td>\n",
       "    </tr>\n",
       "    <tr>\n",
       "      <th>2</th>\n",
       "      <td>Digital Wallet</td>\n",
       "      <td>2170</td>\n",
       "      <td>19155.5</td>\n",
       "    </tr>\n",
       "  </tbody>\n",
       "</table>\n",
       "</div>"
      ],
      "text/plain": [
       "   Payment Method  Times Used  Total Spent\n",
       "0     Credit Card        2147      19176.5\n",
       "1            Cash        2137      19242.5\n",
       "2  Digital Wallet        2170      19155.5"
      ]
     },
     "execution_count": 79,
     "metadata": {},
     "output_type": "execute_result"
    }
   ],
   "source": [
    "# Showing a table with times used and the amount of money generated by each payment method\n",
    "total_spent_count = pd.merge(\n",
    "    method_count_df, method_total_spent, on=\"Payment Method\")\n",
    "total_spent_count"
   ]
  },
  {
   "cell_type": "markdown",
   "id": "1ce03139",
   "metadata": {},
   "source": [
    "We can see customers use the three payment methods an equal amount, and the amount of money customers spend using each payment method is also roughly equal. These are all important avenues of payment to maintain. "
   ]
  },
  {
   "cell_type": "markdown",
   "id": "ea57c127",
   "metadata": {},
   "source": [
    "## Location"
   ]
  },
  {
   "cell_type": "code",
   "execution_count": 80,
   "id": "6c3bf2c1",
   "metadata": {},
   "outputs": [
    {
     "data": {
      "text/plain": [
       "Location\n",
       "Takeaway    2859\n",
       "In-store    2858\n",
       "Name: count, dtype: int64"
      ]
     },
     "execution_count": 80,
     "metadata": {},
     "output_type": "execute_result"
    }
   ],
   "source": [
    "# Obtaining the total times each location was used\n",
    "location_count = locations[\"Location\"].value_counts()\n",
    "location_count"
   ]
  },
  {
   "cell_type": "code",
   "execution_count": 81,
   "id": "3f7baa5b",
   "metadata": {},
   "outputs": [
    {
     "data": {
      "text/plain": [
       "['Takeaway', 'In-store']"
      ]
     },
     "execution_count": 81,
     "metadata": {},
     "output_type": "execute_result"
    }
   ],
   "source": [
    "# List of locations, preserving order\n",
    "location_list = list(location_count.index)\n",
    "location_list"
   ]
  },
  {
   "cell_type": "code",
   "execution_count": 82,
   "id": "ec767809",
   "metadata": {},
   "outputs": [
    {
     "data": {
      "text/plain": [
       "[2859, 2858]"
      ]
     },
     "execution_count": 82,
     "metadata": {},
     "output_type": "execute_result"
    }
   ],
   "source": [
    "# Times each location was used, preserving order\n",
    "times_used = list(location_count)\n",
    "times_used"
   ]
  },
  {
   "cell_type": "code",
   "execution_count": 83,
   "id": "46f9191e",
   "metadata": {},
   "outputs": [
    {
     "data": {
      "text/plain": [
       "{'Location': ['Takeaway', 'In-store'], 'Times Used': [2859, 2858]}"
      ]
     },
     "execution_count": 83,
     "metadata": {},
     "output_type": "execute_result"
    }
   ],
   "source": [
    "# Dictionary of locations and times each was used\n",
    "locations_dict = {\"Location\": location_list, \"Times Used\": times_used}\n",
    "locations_dict"
   ]
  },
  {
   "cell_type": "code",
   "execution_count": 84,
   "id": "94d1089d",
   "metadata": {},
   "outputs": [
    {
     "data": {
      "text/html": [
       "<div>\n",
       "<style scoped>\n",
       "    .dataframe tbody tr th:only-of-type {\n",
       "        vertical-align: middle;\n",
       "    }\n",
       "\n",
       "    .dataframe tbody tr th {\n",
       "        vertical-align: top;\n",
       "    }\n",
       "\n",
       "    .dataframe thead th {\n",
       "        text-align: right;\n",
       "    }\n",
       "</style>\n",
       "<table border=\"1\" class=\"dataframe\">\n",
       "  <thead>\n",
       "    <tr style=\"text-align: right;\">\n",
       "      <th></th>\n",
       "      <th>Location</th>\n",
       "      <th>Times Used</th>\n",
       "    </tr>\n",
       "  </thead>\n",
       "  <tbody>\n",
       "    <tr>\n",
       "      <th>0</th>\n",
       "      <td>Takeaway</td>\n",
       "      <td>2859</td>\n",
       "    </tr>\n",
       "    <tr>\n",
       "      <th>1</th>\n",
       "      <td>In-store</td>\n",
       "      <td>2858</td>\n",
       "    </tr>\n",
       "  </tbody>\n",
       "</table>\n",
       "</div>"
      ],
      "text/plain": [
       "   Location  Times Used\n",
       "0  Takeaway        2859\n",
       "1  In-store        2858"
      ]
     },
     "execution_count": 84,
     "metadata": {},
     "output_type": "execute_result"
    }
   ],
   "source": [
    "# data frame of above dictionary\n",
    "location_count_df = pd.DataFrame(locations_dict)\n",
    "location_count_df"
   ]
  },
  {
   "cell_type": "code",
   "execution_count": 85,
   "id": "718c674d",
   "metadata": {},
   "outputs": [
    {
     "data": {
      "text/html": [
       "<div>\n",
       "<style scoped>\n",
       "    .dataframe tbody tr th:only-of-type {\n",
       "        vertical-align: middle;\n",
       "    }\n",
       "\n",
       "    .dataframe tbody tr th {\n",
       "        vertical-align: top;\n",
       "    }\n",
       "\n",
       "    .dataframe thead th {\n",
       "        text-align: right;\n",
       "    }\n",
       "</style>\n",
       "<table border=\"1\" class=\"dataframe\">\n",
       "  <thead>\n",
       "    <tr style=\"text-align: right;\">\n",
       "      <th></th>\n",
       "      <th>Location</th>\n",
       "      <th>Total Spent</th>\n",
       "    </tr>\n",
       "  </thead>\n",
       "  <tbody>\n",
       "    <tr>\n",
       "      <th>0</th>\n",
       "      <td>In-store</td>\n",
       "      <td>25620.0</td>\n",
       "    </tr>\n",
       "    <tr>\n",
       "      <th>1</th>\n",
       "      <td>Takeaway</td>\n",
       "      <td>24790.5</td>\n",
       "    </tr>\n",
       "  </tbody>\n",
       "</table>\n",
       "</div>"
      ],
      "text/plain": [
       "   Location  Total Spent\n",
       "0  In-store      25620.0\n",
       "1  Takeaway      24790.5"
      ]
     },
     "execution_count": 85,
     "metadata": {},
     "output_type": "execute_result"
    }
   ],
   "source": [
    "# Data frame of total spent per location\n",
    "location_total_spent = locations.loc[:, [\"Location\", \"Total Spent\"]]\n",
    "locations_grp = location_total_spent.groupby(\"Location\", as_index=False)\n",
    "location_total_spent_df = locations_grp.sum()\n",
    "location_total_spent_df"
   ]
  },
  {
   "cell_type": "code",
   "execution_count": 86,
   "id": "94f3d42e",
   "metadata": {},
   "outputs": [
    {
     "data": {
      "text/html": [
       "<div>\n",
       "<style scoped>\n",
       "    .dataframe tbody tr th:only-of-type {\n",
       "        vertical-align: middle;\n",
       "    }\n",
       "\n",
       "    .dataframe tbody tr th {\n",
       "        vertical-align: top;\n",
       "    }\n",
       "\n",
       "    .dataframe thead th {\n",
       "        text-align: right;\n",
       "    }\n",
       "</style>\n",
       "<table border=\"1\" class=\"dataframe\">\n",
       "  <thead>\n",
       "    <tr style=\"text-align: right;\">\n",
       "      <th></th>\n",
       "      <th>Location</th>\n",
       "      <th>Times Used</th>\n",
       "      <th>Total Spent</th>\n",
       "    </tr>\n",
       "  </thead>\n",
       "  <tbody>\n",
       "    <tr>\n",
       "      <th>0</th>\n",
       "      <td>Takeaway</td>\n",
       "      <td>2859</td>\n",
       "      <td>24790.5</td>\n",
       "    </tr>\n",
       "    <tr>\n",
       "      <th>1</th>\n",
       "      <td>In-store</td>\n",
       "      <td>2858</td>\n",
       "      <td>25620.0</td>\n",
       "    </tr>\n",
       "  </tbody>\n",
       "</table>\n",
       "</div>"
      ],
      "text/plain": [
       "   Location  Times Used  Total Spent\n",
       "0  Takeaway        2859      24790.5\n",
       "1  In-store        2858      25620.0"
      ]
     },
     "execution_count": 86,
     "metadata": {},
     "output_type": "execute_result"
    }
   ],
   "source": [
    "# Table of times used and total spent per location\n",
    "location_count_spent = pd.merge(\n",
    "    location_count_df, location_total_spent_df, on=\"Location\")\n",
    "location_count_spent"
   ]
  },
  {
   "cell_type": "markdown",
   "id": "81fe208f",
   "metadata": {},
   "source": [
    "We see that each location was used an almost equal amount of times, as well as the total amount spent per location was very similar, with \"In-store\" being slightly higher."
   ]
  },
  {
   "cell_type": "markdown",
   "id": "51985560",
   "metadata": {},
   "source": [
    "## Time Series"
   ]
  },
  {
   "cell_type": "markdown",
   "id": "aa12c338",
   "metadata": {},
   "source": [
    "We will now investigate the total spent by customers at the cafe per day and see if we can fit a model to make predictions. "
   ]
  },
  {
   "cell_type": "code",
   "execution_count": 87,
   "id": "f0b30fb8",
   "metadata": {},
   "outputs": [
    {
     "name": "stdout",
     "output_type": "stream",
     "text": [
      "<class 'pandas.core.frame.DataFrame'>\n",
      "Index: 9035 entries, 0 to 9999\n",
      "Data columns (total 2 columns):\n",
      " #   Column            Non-Null Count  Dtype  \n",
      "---  ------            --------------  -----  \n",
      " 0   Transaction Date  9035 non-null   object \n",
      " 1   Total Spent       9035 non-null   float64\n",
      "dtypes: float64(1), object(1)\n",
      "memory usage: 211.8+ KB\n"
     ]
    }
   ],
   "source": [
    "# Selecting necessary columns for time series analysis\n",
    "time_data = dates.loc[:, [\"Transaction Date\", \"Total Spent\"]]\n",
    "time_data.info()"
   ]
  },
  {
   "cell_type": "code",
   "execution_count": 88,
   "id": "ed842b15",
   "metadata": {},
   "outputs": [],
   "source": [
    "# Converting \"Transaction Date\" to a datetime object\n",
    "time_data[\"Transaction Date\"] = pd.to_datetime(time_data[\"Transaction Date\"])"
   ]
  },
  {
   "cell_type": "code",
   "execution_count": 89,
   "id": "e4d4af79",
   "metadata": {},
   "outputs": [
    {
     "name": "stdout",
     "output_type": "stream",
     "text": [
      "<class 'pandas.core.frame.DataFrame'>\n",
      "Index: 9035 entries, 0 to 9999\n",
      "Data columns (total 2 columns):\n",
      " #   Column            Non-Null Count  Dtype         \n",
      "---  ------            --------------  -----         \n",
      " 0   Transaction Date  9035 non-null   datetime64[ns]\n",
      " 1   Total Spent       9035 non-null   float64       \n",
      "dtypes: datetime64[ns](1), float64(1)\n",
      "memory usage: 211.8 KB\n"
     ]
    }
   ],
   "source": [
    "# Updated column information\n",
    "time_data.info()"
   ]
  },
  {
   "cell_type": "code",
   "execution_count": 90,
   "id": "6f9879e8",
   "metadata": {},
   "outputs": [],
   "source": [
    "# Setting \"Transaction date\" as the index\n",
    "time_data.set_index('Transaction Date', inplace=True)"
   ]
  },
  {
   "cell_type": "markdown",
   "id": "b271a05e",
   "metadata": {},
   "source": [
    "We now want to analyze the daily total spent data for the year. The hope is to be able to find a model to fit the data."
   ]
  },
  {
   "cell_type": "code",
   "execution_count": 91,
   "id": "8652c095",
   "metadata": {},
   "outputs": [
    {
     "name": "stdout",
     "output_type": "stream",
     "text": [
      "                  Total Spent\n",
      "Transaction Date             \n",
      "2023-01-01              164.0\n",
      "2023-01-02              169.5\n",
      "2023-01-03              182.0\n",
      "2023-01-04              239.5\n",
      "2023-01-05              340.5\n",
      "...                       ...\n",
      "2023-12-27              197.0\n",
      "2023-12-28              167.0\n",
      "2023-12-29              160.5\n",
      "2023-12-30              156.0\n",
      "2023-12-31              155.0\n",
      "\n",
      "[365 rows x 1 columns]\n",
      "max total spent: 371.5\n",
      "Number of rows: 365\n"
     ]
    }
   ],
   "source": [
    "# Grouping the Total Spent data by day\n",
    "daily_data = time_data.resample('D').sum()\n",
    "print(daily_data)\n",
    "print(f\"max total spent: {max(daily_data[\"Total Spent\"])}\")\n",
    "print(f\"Number of rows: {len(daily_data)}\")"
   ]
  },
  {
   "cell_type": "code",
   "execution_count": 92,
   "id": "37e494a7",
   "metadata": {},
   "outputs": [
    {
     "data": {
      "image/png": "[encoded data removed]",
      "text/plain": [
       "<Figure size 640x480 with 2 Axes>"
      ]
     },
     "metadata": {},
     "output_type": "display_data"
    }
   ],
   "source": [
    "# Line plot of daily Total Spent data\n",
    "count = np.arange(len(daily_data))\n",
    "plt.subplot(1, 2, 1)\n",
    "plt.plot(count, daily_data[\"Total Spent\"])\n",
    "plt.xlabel(\"Days\")\n",
    "plt.ylabel(\"Total Spent\")\n",
    "plt.ylim(0, 400)\n",
    "plt.title(\"Line plot of Total Spent per day\")\n",
    "\n",
    "# Line plot of segment of daily Total Spent data for better visuals\n",
    "subset = 30\n",
    "count_subset = np.arange(subset)\n",
    "plt.subplot(1, 2, 2)\n",
    "plt.plot(count_subset, daily_data.iloc[:subset])\n",
    "plt.ylim(0, 400)\n",
    "plt.xlabel(\"Days\")\n",
    "plt.ylabel(\"Total Spent\")\n",
    "plt.title(\"Zoom in on first 30 days\")\n",
    "\n",
    "plt.tight_layout()\n",
    "plt.show()"
   ]
  },
  {
   "cell_type": "markdown",
   "id": "f1c8bf45",
   "metadata": {},
   "source": [
    "The data seems to be fairly random, with no clear pattern. We will confirm with plots of ACF and PACF, and after a formal test of stationarity (no trend or season). "
   ]
  },
  {
   "cell_type": "code",
   "execution_count": 93,
   "id": "278d458e",
   "metadata": {},
   "outputs": [
    {
     "data": {
      "image/png": "[encoded data removed]",
      "text/plain": [
       "<Figure size 640x480 with 1 Axes>"
      ]
     },
     "metadata": {},
     "output_type": "display_data"
    },
    {
     "data": {
      "image/png": "[encoded data removed]",
      "text/plain": [
       "<Figure size 640x480 with 1 Axes>"
      ]
     },
     "metadata": {},
     "output_type": "display_data"
    }
   ],
   "source": [
    "# ACF and PACF\n",
    "plot_acf(daily_data[\"Total Spent\"])\n",
    "plot_pacf(daily_data[\"Total Spent\"])\n",
    "plt.show()"
   ]
  },
  {
   "cell_type": "code",
   "execution_count": 94,
   "id": "491bbecd",
   "metadata": {},
   "outputs": [
    {
     "name": "stdout",
     "output_type": "stream",
     "text": [
      "ADF test statistic: -20.867866180045162\n",
      "ADF p-value: 0.0\n"
     ]
    }
   ],
   "source": [
    "# Augmented Dickey-Fuller test of stationarity\n",
    "result = adfuller(daily_data[\"Total Spent\"])\n",
    "print(f\"ADF test statistic: {result[0]}\")\n",
    "print(f\"ADF p-value: {result[1]}\")"
   ]
  },
  {
   "cell_type": "markdown",
   "id": "319b1372",
   "metadata": {},
   "source": [
    "Very clear the data is stationary. We can now move on to proposing a model for the data."
   ]
  },
  {
   "cell_type": "code",
   "execution_count": 95,
   "id": "d103d7a7",
   "metadata": {},
   "outputs": [
    {
     "name": "stdout",
     "output_type": "stream",
     "text": [
      "daily data mean = 218.67397260273972\n",
      "daily data standard deviation = 53.625763148504696\n"
     ]
    }
   ],
   "source": [
    "# Calculating mean and standard deviation of daily data\n",
    "daily_data_mean = np.mean(daily_data)\n",
    "daily_data_std = np.std(daily_data[\"Total Spent\"])\n",
    "print(f\"daily data mean = {daily_data_mean}\")\n",
    "print(f\"daily data standard deviation = {daily_data_std}\")"
   ]
  },
  {
   "cell_type": "code",
   "execution_count": 96,
   "id": "3bd4b354",
   "metadata": {},
   "outputs": [],
   "source": [
    "# Generating a random sample from a Normal distribution with the above mean and standard deviation\n",
    "np.random.seed(1)\n",
    "sample_normal = np.random.normal(\n",
    "    loc=daily_data_mean, scale=daily_data_std, size=365)"
   ]
  },
  {
   "cell_type": "code",
   "execution_count": 97,
   "id": "692e07ca",
   "metadata": {},
   "outputs": [
    {
     "data": {
      "image/png": "[encoded data removed]",
      "text/plain": [
       "<Figure size 640x480 with 1 Axes>"
      ]
     },
     "metadata": {},
     "output_type": "display_data"
    }
   ],
   "source": [
    "# Histogram of total amount of money spent per day by customers overlaid with KDE and\n",
    "# Normal density function\n",
    "sns.histplot(daily_data[\"Total Spent\"], kde=False, stat='density')\n",
    "sns.kdeplot(daily_data[\"Total Spent\"], color='red', label=\"Kernel density\")\n",
    "sns.kdeplot(sample_normal, color='black', label=\"Normal density\")\n",
    "plt.legend()\n",
    "plt.title(\"Histogram of Total Spent Per Day By Customers\")\n",
    "plt.show()"
   ]
  },
  {
   "cell_type": "markdown",
   "id": "985987f1",
   "metadata": {},
   "source": [
    "We will now plot a qq plot and perform the following tests:\n",
    "1. Kolmogorov-Smirnov Test\n",
    "2. Shapiro-Wilk Test\n",
    "3. Anderson-Darling Test"
   ]
  },
  {
   "cell_type": "code",
   "execution_count": 98,
   "id": "138b85ff",
   "metadata": {},
   "outputs": [
    {
     "data": {
      "image/png": "[encoded data removed]",
      "text/plain": [
       "<Figure size 640x480 with 1 Axes>"
      ]
     },
     "metadata": {},
     "output_type": "display_data"
    }
   ],
   "source": [
    "# qq plot of daily data\n",
    "ax = pg.qqplot(daily_data[\"Total Spent\"], dist='norm', confidence=0.95, s=10)\n",
    "plt.title(\"Q-Q Plot of Daily Data vs Theoretical Normal Distribution\")\n",
    "plt.show()"
   ]
  },
  {
   "cell_type": "markdown",
   "id": "e1f1a8ae",
   "metadata": {},
   "source": [
    "Based on the histogram and q-q plot, it seems as though the daily total spent data fits well with a Normal Distribution with mean 218.67 and standard deviation 53.63. We will now perform some formal tests to further verify our claims. "
   ]
  },
  {
   "cell_type": "code",
   "execution_count": 99,
   "id": "6707e9e9",
   "metadata": {},
   "outputs": [
    {
     "name": "stdout",
     "output_type": "stream",
     "text": [
      "KS test statistic: 0.03724876954723155\n",
      "KS p-value: 0.6774912622597136\n",
      "At a 5% significance level, there is no evidence to reject the null hypothesis that the data is Normally distributed\n",
      "Passed\n",
      "\n",
      "Shapiro test statistic: 0.9935908599042053\n",
      "Shapiro p-value: 0.12478698012875206\n",
      "At a 5% significance level, there is no evidence to reject the null hypothesis that the data is Normally distributed\n",
      "Passed\n",
      "\n",
      "AD test statistic: 0.4436123355283712\n",
      "AD critical values: [0.57  0.649 0.779 0.908 1.08 ]\n",
      "AD significance levels: [15.  10.   5.   2.5  1. ]\n",
      "At a 15.0% significance level, there is no evidence to reject the null hypothesis that the data is Normally distributed\n",
      "Passed\n",
      "At a 10.0% significance level, there is no evidence to reject the null hypothesis that the data is Normally distributed\n",
      "Passed\n",
      "At a 5.0% significance level, there is no evidence to reject the null hypothesis that the data is Normally distributed\n",
      "Passed\n",
      "At a 2.5% significance level, there is no evidence to reject the null hypothesis that the data is Normally distributed\n",
      "Passed\n",
      "At a 1.0% significance level, there is no evidence to reject the null hypothesis that the data is Normally distributed\n",
      "Passed\n"
     ]
    }
   ],
   "source": [
    "# Standardizing data for Normal tests\n",
    "standardized_data = (daily_data[\"Total Spent\"] -\n",
    "                     daily_data_mean) / daily_data_std\n",
    "\n",
    "# Kolmogorov-Smirnov test\n",
    "statistic, p_value = stats.kstest(standardized_data, 'norm')\n",
    "print(f\"KS test statistic: {statistic}\")\n",
    "print(f\"KS p-value: {p_value}\")\n",
    "if p_value > 0.05:\n",
    "    print(\"At a 5% significance level, there is no evidence to reject the null hypothesis that the data is Normally distributed\\nPassed\")\n",
    "else:\n",
    "    print(\"At a 5% significance level, there is evidence to reject the null hypothesis that the data is Normally distributed\\nFailed\")\n",
    "\n",
    "print()\n",
    "\n",
    "# Shapiro-Wilk test\n",
    "statistic, p_value = stats.shapiro(standardized_data)\n",
    "print(f\"Shapiro test statistic: {statistic}\")\n",
    "print(f\"Shapiro p-value: {p_value}\")\n",
    "if p_value > 0.05:\n",
    "    print(\"At a 5% significance level, there is no evidence to reject the null hypothesis that the data is Normally distributed\\nPassed\")\n",
    "else:\n",
    "    print(\"At a 5% significance level, there is evidence to reject the null hypothesis that the data is Normally distributed\\nFailed\")\n",
    "\n",
    "print()\n",
    "\n",
    "# Anderson-Darling test\n",
    "result = stats.anderson(standardized_data)\n",
    "statistic, critical_values, significance_levels = result\n",
    "print(f\"AD test statistic: {statistic}\")\n",
    "print(f\"AD critical values: {critical_values}\")\n",
    "print(f\"AD significance levels: {significance_levels}\")\n",
    "for i, cv in enumerate(critical_values):\n",
    "    sl = significance_levels[i]\n",
    "    if statistic < cv:\n",
    "        print(f\"At a {sl}% significance level, there is no evidence to reject the null hypothesis that the data is Normally distributed\\nPassed\")\n",
    "    else:\n",
    "        print(f\"At a {sl}% significance level, there is evidence to reject the null hypothesis that the data is Normally distributed\\nFailed\")"
   ]
  },
  {
   "cell_type": "markdown",
   "id": "41920b6f",
   "metadata": {},
   "source": [
    "Based on the three formal tests of Normality, we see there no evidence to suggest the data does not follow a Normal distribution."
   ]
  },
  {
   "cell_type": "markdown",
   "id": "3fe63350",
   "metadata": {},
   "source": [
    "Using both the graphical tests and the formal tests, we can say that the daily sales data can be modelled by a Normal distribution with mean 218.67 and standard deviation 53.63. "
   ]
  },
  {
   "cell_type": "markdown",
   "id": "ffae2de8",
   "metadata": {},
   "source": [
    "Normally, with time series data, we may want to try to forecast future sales. However, since the sales data seems to be white noise, it does not make sense to try to forecast it. We will stop our analysis here."
   ]
  },
  {
   "cell_type": "markdown",
   "id": "c22a90f1",
   "metadata": {},
   "source": [
    "# Final Thoughts"
   ]
  },
  {
   "cell_type": "markdown",
   "id": "d29b2f94",
   "metadata": {},
   "source": [
    "The above work has provided valuable insights into the cafe sales data in a few general ways. Firstly, we cleaned the data to a point where analysis could be conducted. Next, we investigated the distribution of quantities of each item sold, and the total amount of money spent on each item for the year. We found that each item was purchased a similar amount of times, however, the salad generated the most revenue and cookies the least. We then investigated the payment methods used and the revenue from each method. All three methods had similar results. We then looked at the location the customers chose to purchase their products, the frequency and revenue from each location. Both locations were very similar, with in-store making a bit more revenue than takeaway. Finally, we performed a time series analysis on the sales per day. We found through graphical and formal tests, that a Normal distribution with mean 218.67 and standard deviation 53.63 is a reasonable model for the sales data. As far as future implications, generally, we can hypothesize that the future data will continue to follow the above Normal distribution and corporate decisions can be made with this model in mind. It will be interesting to see if 2024 continues this distribution of sales. The sales have been generally constant throughout 2023. This may or may not be desirable to management. "
   ]
  },
  {
   "cell_type": "markdown",
   "id": "8e365d1c",
   "metadata": {},
   "source": [
    "# Saving the Datasets to Excel Files"
   ]
  },
  {
   "cell_type": "code",
   "execution_count": 100,
   "id": "371e2332",
   "metadata": {},
   "outputs": [],
   "source": [
    "# Save the semi-clean starting point to excel\n",
    "sales.to_excel(\"clean_cafe_sales.xlsx\", index=False)"
   ]
  },
  {
   "cell_type": "code",
   "execution_count": 101,
   "id": "63c996a2",
   "metadata": {},
   "outputs": [],
   "source": [
    "# Save the data tailored to items to excel\n",
    "items.to_excel(\"clean_cafe_items.xlsx\", index=False)"
   ]
  },
  {
   "cell_type": "code",
   "execution_count": 102,
   "id": "07018b65",
   "metadata": {},
   "outputs": [],
   "source": [
    "# Save the data tailored to payment methods to excel\n",
    "payment_methods.to_excel(\"clean_cafe_payment.xlsx\", index=False)"
   ]
  },
  {
   "cell_type": "code",
   "execution_count": 103,
   "id": "d999051f",
   "metadata": {},
   "outputs": [],
   "source": [
    "# Save the data tailored to locations to excel\n",
    "locations.to_excel(\"clean_cafe_locations.xlsx\", index=False)"
   ]
  },
  {
   "cell_type": "code",
   "execution_count": 104,
   "id": "a87381d5",
   "metadata": {},
   "outputs": [],
   "source": [
    "# Save the data tailored to dates to excel\n",
    "dates.to_excel(\"clean_cafe_dates.xlsx\", index=False)"
   ]
  }
 ],
 "metadata": {
  "kernelspec": {
   "display_name": "base",
   "language": "python",
   "name": "python3"
  },
  "language_info": {
   "codemirror_mode": {
    "name": "ipython",
    "version": 3
   },
   "file_extension": ".py",
   "mimetype": "text/x-python",
   "name": "python",
   "nbconvert_exporter": "python",
   "pygments_lexer": "ipython3",
   "version": "3.12.7"
  }
 },
 "nbformat": 4,
 "nbformat_minor": 5
}
